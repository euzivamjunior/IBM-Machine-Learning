{
 "cells": [
  {
   "cell_type": "markdown",
   "metadata": {},
   "source": [
    "# <font color='hotblue'>Python Pro - Anotações de estudo</font>\n",
    "\n",
    "## Python Birds - Parte 3.1"
   ]
  },
  {
   "cell_type": "markdown",
   "metadata": {},
   "source": [
    "Notebook destinado a anotações dos estudos realizados durante o curso Python Pro - Renzo Nuccitelli"
   ]
  },
  {
   "cell_type": "markdown",
   "metadata": {},
   "source": [
    "# <font color='mediumpurple'>Containers</font>"
   ]
  },
  {
   "cell_type": "code",
   "execution_count": null,
   "metadata": {},
   "outputs": [],
   "source": [
    "# O conceito de conteiner em python refere-se a qualquer objeto que contém um número arbitrário de de outros objetos. Em geral,\n",
    "# os containers fornecem uma maneira de acesso ao objeto contido e uma forma de interar sobre ele. Os mais comuns são:\n",
    "\n",
    "# strings\n",
    "# listas\n",
    "# dicionários\n",
    "# tuplas\n",
    "\n",
    "# obs: iteração: operações sucessivas em que o resultado de cada operação é reflexo da que a precede."
   ]
  },
  {
   "cell_type": "markdown",
   "metadata": {},
   "source": [
    "# <font color='mediumpurple'>Strings</font>"
   ]
  },
  {
   "cell_type": "code",
   "execution_count": 1,
   "metadata": {},
   "outputs": [
    {
     "name": "stdout",
     "output_type": "stream",
     "text": [
      "Essa é uma string\n"
     ]
    }
   ],
   "source": [
    "# Strings é uma sequência de caracteres, podendo ser composto de apenas 1 ou vários caracteres.\n",
    "# Em python utilizamos as aspas simples ('') ou duplas (\"\") para indicar uma sequência de caracteres. ex:\n",
    "\n",
    "st1 = 'Essa é uma string'\n",
    "print(st1)"
   ]
  },
  {
   "cell_type": "code",
   "execution_count": 11,
   "metadata": {},
   "outputs": [
    {
     "name": "stdout",
     "output_type": "stream",
     "text": [
      "\"Esta\" é uma \"String\"\n"
     ]
    }
   ],
   "source": [
    "# Um detalhe quanto ao uso de aspas. Para utilizar aspas em uma string de forma que esta seja também uma string\n",
    "# (e não o indicador de string), utilizamos os dois tipos de aspas (duplas e simples), de forma que as aspas mais externas\n",
    "# se tornam os indicadores, e as internas parte da string.\n",
    "\n",
    "st2 = '\"Esta\" é uma \"String\"'\n",
    "print(st2)"
   ]
  },
  {
   "cell_type": "code",
   "execution_count": 2,
   "metadata": {},
   "outputs": [
    {
     "data": {
      "text/plain": [
       "str"
      ]
     },
     "execution_count": 2,
     "metadata": {},
     "output_type": "execute_result"
    }
   ],
   "source": [
    "# Podemos passar também números como strings. ex:\n",
    "# Nas próximas aulas veremos um pouco sobre suas diferenças, implicações e conversões.\n",
    "\n",
    "st3 = '12345'\n",
    "type(st3)"
   ]
  },
  {
   "cell_type": "code",
   "execution_count": 14,
   "metadata": {},
   "outputs": [
    {
     "name": "stdout",
     "output_type": "stream",
     "text": [
      "Learning \n",
      "Python\n"
     ]
    }
   ],
   "source": [
    "# Para pularmos linha em string podemos utilizar o '\\n', que já é conhecido de outras linguagens de programação. ex:\n",
    "\n",
    "st4 = 'Learning \\nPython'\n",
    "print(st4)"
   ]
  },
  {
   "cell_type": "code",
   "execution_count": 17,
   "metadata": {},
   "outputs": [
    {
     "name": "stdout",
     "output_type": "stream",
     "text": [
      "Learning\n",
      "Python\n"
     ]
    }
   ],
   "source": [
    "# Porém a legibilidade utilizada no exemplo acima talvez não seja ideal se tratando de strings longas. Para melhorar isso \n",
    "# podemos utilizar aspas triplas (de mesmo tipo) Dessa forma podemos escrever o salto de linha de forma convencional a \n",
    "# editores de texto (apenas dando um 'enter'). ex:\n",
    "\n",
    "st5 = '''Learning\n",
    "Python'''\n",
    "print(st5)"
   ]
  },
  {
   "cell_type": "markdown",
   "metadata": {},
   "source": [
    "### <font color='lightseagreen'>Concatenação de Strings</font>"
   ]
  },
  {
   "cell_type": "code",
   "execution_count": 3,
   "metadata": {},
   "outputs": [
    {
     "name": "stdout",
     "output_type": "stream",
     "text": [
      "Bem vindo ao Curso de Python\n"
     ]
    }
   ],
   "source": [
    "# Concatenação de strings (União de strings)\n",
    "st4 = 'Bem vindo ao '\n",
    "st5 = 'Curso de Python'\n",
    "print(st4 + st5)"
   ]
  },
  {
   "cell_type": "code",
   "execution_count": 21,
   "metadata": {},
   "outputs": [
    {
     "name": "stdout",
     "output_type": "stream",
     "text": [
      "Ho Ho Ho \n",
      "Feliz Natal\n"
     ]
    }
   ],
   "source": [
    "# Concatenação de uma mesma string 'n vezes'. ex:\n",
    "st8 = 'Ho '\n",
    "st9 = 'Feliz Natal'\n",
    "print(st8 * 3)\n",
    "print(st9)"
   ]
  },
  {
   "cell_type": "code",
   "execution_count": null,
   "metadata": {},
   "outputs": [],
   "source": [
    "# O tipo de concatenação 'n vezes' mostrado acima é utilizado geralmente para validação de nº máx. de caracteres suportados\n",
    "# por um campo a ser preenchido.\n",
    "\n",
    "# Uma segunda aplicação seria para gerar uma mesma string várias vezes. Como é o caso do famoso texto 'Ipsum Lorem' utilizado \n",
    "# como texto padrão para vizualização de design em website, folder ou outros, quando não se sabe o texto que será usado de fato."
   ]
  },
  {
   "cell_type": "code",
   "execution_count": null,
   "metadata": {},
   "outputs": [],
   "source": [
    "# existem algumas funções internas do python que são de grande ajuda durante o desenvolvimento dos nossos scripts, como é o\n",
    "# do comando <dir('')>, que retorna os métodos e atributos disponíveis para o objeto passado como parâmetro.\n",
    "# nota: Métodos e Atributos ainda serão discutidos quando chegarmos em Programação Orientada a Objetos.\n",
    "\n",
    "# Veremos sua aplicação em strings. ex:\n",
    "\n",
    "dir('')"
   ]
  },
  {
   "cell_type": "code",
   "execution_count": 26,
   "metadata": {},
   "outputs": [
    {
     "name": "stdout",
     "output_type": "stream",
     "text": [
      "outra string\n"
     ]
    }
   ],
   "source": [
    "# Mediante a lista de métodos e atributos fornecida pelo comando dir('string'), faremos uso do método lower para vizualização\n",
    "# de aplicação. ex:\n",
    "\n",
    "str10 = 'OuTrA sTrInG'\n",
    "print(str10.lower())"
   ]
  },
  {
   "cell_type": "code",
   "execution_count": 27,
   "metadata": {},
   "outputs": [
    {
     "name": "stdout",
     "output_type": "stream",
     "text": [
      "Help on built-in function lower:\n",
      "\n",
      "lower() method of builtins.str instance\n",
      "    Return a copy of the string converted to lowercase.\n",
      "\n"
     ]
    }
   ],
   "source": [
    "# Para entender de fato o que o comando acima realizou utilizaremos uma outra função interna python. a função 'help()'. Que\n",
    "# retorna uma descrição sobre o parâmetro passado. ex:\n",
    "\n",
    "help(str10.lower)"
   ]
  },
  {
   "cell_type": "code",
   "execution_count": null,
   "metadata": {},
   "outputs": [],
   "source": [
    "# Algumas aplicações comuns do método lower é dado em 'Processamento de Linguagem Natural', 'Mineração de Textos', 'Nuvem\n",
    "# de palabras' e outros. Na qual não é interessante que seja feita distinção entre palavras apenas pela difernça entre \n",
    "# maiúsculas e minúsculas. Pois para estas aplicações as strings de ex. Brasil e brasil, devem ser consideradas a mesma coisa. \n",
    "# evitando assim dados duplicados ou segregação de conjuntos que possam comprometer os processos em questão."
   ]
  },
  {
   "cell_type": "markdown",
   "metadata": {},
   "source": [
    "# <font color='mediumpurple'>Listas</font>"
   ]
  },
  {
   "cell_type": "code",
   "execution_count": null,
   "metadata": {},
   "outputs": [],
   "source": [
    "# A lista é uma estrutura de dados que armazena uma coleção de elementos (itens) de forma sequêncial e ordenada.\n",
    "# Cada item na lista é identificado por um índice (iniciado em 0) que é utilizado para acessar o item específico.\n",
    "# Em outras linguagens de programação a lista é uma espécie de vetor, que permite adicionar ou retirar elementos.\n",
    "\n",
    "# Detalhe importante: A lista pode ser utilizada para armazenar qualquer tipo de objeto, independente de qual seja."
   ]
  },
  {
   "cell_type": "code",
   "execution_count": 29,
   "metadata": {},
   "outputs": [
    {
     "data": {
      "text/plain": [
       "list"
      ]
     },
     "execution_count": 29,
     "metadata": {},
     "output_type": "execute_result"
    }
   ],
   "source": [
    "# Para criarmos uma lista em python, basta utilizar os colchetes e passar como parâmetro os itens desejados separados com ','. \n",
    "# ex:\n",
    "lista1 = ['morango', 'banana', 'laranja', 'uva', 'pêssego']\n",
    "type(lista1)"
   ]
  },
  {
   "cell_type": "code",
   "execution_count": 30,
   "metadata": {},
   "outputs": [
    {
     "name": "stdout",
     "output_type": "stream",
     "text": [
      "['morango', 'banana', 'laranja', 'uva', 'pêssego']\n"
     ]
    }
   ],
   "source": [
    "# Podemos imprimir a lista criada. ex:\n",
    "print(lista1)"
   ]
  },
  {
   "cell_type": "code",
   "execution_count": 33,
   "metadata": {},
   "outputs": [
    {
     "name": "stdout",
     "output_type": "stream",
     "text": [
      "[1, 2.0, 'três', ['qua', 'tro']]\n"
     ]
    }
   ],
   "source": [
    "# Os elementos da lista não se limitam a strings, podem-se utilizar inteiros, floats, outras listas, outros containers, ou\n",
    "# seja qualquer outro objeto em python. ex:\n",
    "lista2 = [1, 2.0, 'três',['qua','tro']]\n",
    "print(lista2)"
   ]
  },
  {
   "cell_type": "code",
   "execution_count": 34,
   "metadata": {},
   "outputs": [
    {
     "data": {
      "text/plain": [
       "[0, 1, 2, 3, 4, 5, 6, 7, 8, 9]"
      ]
     },
     "execution_count": 34,
     "metadata": {},
     "output_type": "execute_result"
    }
   ],
   "source": [
    "# podemos utilizar uma função 'range()' bastante utilizada em python para criar uma sequência de números e salva-la em uma lista\n",
    "# utiliziando o comando 'list'. ex:\n",
    "\n",
    "lista3 = list(range(10))\n",
    "lista3\n",
    "\n",
    "# No exemplo acima note que o parâmetro passado é 10, o que significa que por padrão o python começa em 0 inclusivo (inclui o 0)\n",
    "# e termina em 10 exclusivo (não inclui o 10)."
   ]
  },
  {
   "cell_type": "code",
   "execution_count": 35,
   "metadata": {},
   "outputs": [
    {
     "data": {
      "text/plain": [
       "[0, 2, 4, 6, 8, 10, 12, 14, 16, 18, 20]"
      ]
     },
     "execution_count": 35,
     "metadata": {},
     "output_type": "execute_result"
    }
   ],
   "source": [
    "# Podemos também expandir os parâmetros da função 'range()', definindo assim o inicio, fim e saltos. Voltaremos nessa função\n",
    "# novamente quando abordarmos o 'loop for'. ex:\n",
    "\n",
    "lista4 = list(range(0, 22, 2))\n",
    "lista4\n",
    "\n",
    "# O resultado do código acima é uma lista começando em 0 inclusivo (inclui o 0), terminando em 22 exclusivo (não inclui o 22)\n",
    "# e o salto entre valores é de 2 unidades."
   ]
  },
  {
   "cell_type": "code",
   "execution_count": 36,
   "metadata": {},
   "outputs": [
    {
     "data": {
      "text/plain": [
       "[20, 18, 16, 14, 12, 10, 8, 6, 4, 2]"
      ]
     },
     "execution_count": 36,
     "metadata": {},
     "output_type": "execute_result"
    }
   ],
   "source": [
    "# Podemos criar uma lista regressiva, utilizando saltos negativos (-). ex:\n",
    "\n",
    "lista5 = list(range(20, 0, -2)) \n",
    "lista5"
   ]
  },
  {
   "cell_type": "markdown",
   "metadata": {},
   "source": [
    "### <font color='lightseagreen'>Métodos - Listas</font>"
   ]
  },
  {
   "cell_type": "code",
   "execution_count": null,
   "metadata": {},
   "outputs": [],
   "source": [
    "# Utilizando a função dir para retornar os métodos e atributos disponíveis para o objeto 'list (lista)'\n",
    "dir(list)"
   ]
  },
  {
   "cell_type": "code",
   "execution_count": 59,
   "metadata": {},
   "outputs": [
    {
     "name": "stdout",
     "output_type": "stream",
     "text": [
      "[0, 1, 2, 3, 4, 5, 6, 7, 8, 9]\n"
     ]
    }
   ],
   "source": [
    "# O método sort() realiza a ordenação de uma dada lista, seja ela numérica ou de strings. ex:\n",
    "\n",
    "lista6 = [5, 4, 1, 0, 7, 2, 3, 9, 6, 8]\n",
    "lista6.sort()\n",
    "\n",
    "print(lista6)"
   ]
  },
  {
   "cell_type": "code",
   "execution_count": 60,
   "metadata": {},
   "outputs": [
    {
     "name": "stdout",
     "output_type": "stream",
     "text": [
      "[0, 1, 2, 3, 4, 5, 6, 7, 8, 9, 10]\n"
     ]
    }
   ],
   "source": [
    "# Podemos utilizar o método 'append()' para adicionar um elemento ao final da lista. ex:\n",
    "\n",
    "lista6.append(10)\n",
    "print(lista6)"
   ]
  },
  {
   "cell_type": "code",
   "execution_count": 61,
   "metadata": {},
   "outputs": [
    {
     "data": {
      "text/plain": [
       "10"
      ]
     },
     "execution_count": 61,
     "metadata": {},
     "output_type": "execute_result"
    }
   ],
   "source": [
    "# Utilizamos o método 'pop()', para retirar e retornar o último elemento. ex:\n",
    "\n",
    "lista6.pop()\n",
    "\n",
    "# Note que ela retorna o elemento retirado."
   ]
  },
  {
   "cell_type": "code",
   "execution_count": 62,
   "metadata": {},
   "outputs": [
    {
     "name": "stdout",
     "output_type": "stream",
     "text": [
      "[0, 1, 2, 3, 4, 5, 6, 7, 8, 9]\n"
     ]
    }
   ],
   "source": [
    "# Imprimindo novamente a lista\n",
    "print(lista6)"
   ]
  },
  {
   "cell_type": "code",
   "execution_count": 63,
   "metadata": {},
   "outputs": [
    {
     "name": "stdout",
     "output_type": "stream",
     "text": [
      "[0, 1, 2, 3, 4, 5, 6, 7, 8, 9, 'a', 'b', 'c']\n"
     ]
    }
   ],
   "source": [
    "# Utilizamos o método 'extend()' juntar uma lista a outra adicionando os elementos da 1ª ao final da 2ª. \n",
    "# Ou adicionar vários elementos ao final de uma lista.ex:\n",
    "\n",
    "lista6.extend(['a', 'b', 'c'])\n",
    "print(lista6)"
   ]
  },
  {
   "cell_type": "code",
   "execution_count": 66,
   "metadata": {},
   "outputs": [
    {
     "name": "stdout",
     "output_type": "stream",
     "text": [
      "['Lista', 'é', 'um', 'objeto', 'muito', 'importante', 'em', 'python']\n"
     ]
    }
   ],
   "source": [
    "# Podemos transformar uma string em uma lista utilizando o método 'split() -> dividir'.\n",
    "\n",
    "str0 = \"Lista é um objeto muito importante em python\"\n",
    "lista7 = str0.split()\n",
    "print(lista7)"
   ]
  },
  {
   "cell_type": "code",
   "execution_count": 69,
   "metadata": {},
   "outputs": [
    {
     "name": "stdout",
     "output_type": "stream",
     "text": [
      "['Split', 'significa', 'dividir']\n"
     ]
    }
   ],
   "source": [
    "# Detalhe do exemplo anterior é o parênteses() vazio que no padrão desse método equivale ao espaço ( ), porém podemos dividir\n",
    "# em torno de outro parâmetro. ex:\n",
    "str1 = \"Split_significa_dividir\"\n",
    "lista8 = str1.split('_')\n",
    "print(lista8)"
   ]
  },
  {
   "cell_type": "markdown",
   "metadata": {},
   "source": [
    "### <font color='lightseagreen'>Concatenação</font>"
   ]
  },
  {
   "cell_type": "code",
   "execution_count": 70,
   "metadata": {},
   "outputs": [
    {
     "name": "stdout",
     "output_type": "stream",
     "text": [
      "[5, 4, 3, 2, 1]\n"
     ]
    }
   ],
   "source": [
    "# Junção de 2 listas\n",
    "lista9 = [5, 4]\n",
    "lista10 = [3, 2, 1]\n",
    "lista11 = lista9 + lista10\n",
    "print(lista11)"
   ]
  },
  {
   "cell_type": "code",
   "execution_count": 71,
   "metadata": {},
   "outputs": [
    {
     "name": "stdout",
     "output_type": "stream",
     "text": [
      "[5, 4, 3, 2, 1, 5, 4, 3, 2, 1]\n"
     ]
    }
   ],
   "source": [
    "# Concatenação 'n vezes'\n",
    "print(lista11 * 2)"
   ]
  },
  {
   "cell_type": "markdown",
   "metadata": {},
   "source": [
    "### <font color='orange'>Exercícios</font>"
   ]
  },
  {
   "cell_type": "code",
   "execution_count": null,
   "metadata": {},
   "outputs": [],
   "source": [
    "# Uma atividade que faz parte da rotina da maioria das pessoas é a realização de compras no supermercado. Para facilitar as\n",
    "# minhas compras costumo fazer uma lista para auxiliar no processo e para isso quero sua ajuda. Crie uma lista, adicione\n",
    "# os seguintes itens a ela e depois imprima na tela:\n",
    "\n",
    "# - carne\n",
    "# - batata\n",
    "# - macarrão\n",
    "# - bolachas\n",
    "# - sucos\n",
    "# - açucar\n",
    "# - sal"
   ]
  },
  {
   "cell_type": "code",
   "execution_count": null,
   "metadata": {},
   "outputs": [],
   "source": [
    "# Após ler a lista que você criou percebi que estava faltando alguns itens importantes, portanto peço que as adicione a mesma\n",
    "# lista já criada, os itens são:\n",
    "\n",
    "# - trigo\n",
    "# - frutas\n",
    "# - arroz\n",
    "# - feijão"
   ]
  },
  {
   "cell_type": "code",
   "execution_count": null,
   "metadata": {},
   "outputs": [],
   "source": [
    "# Ao consultar minha dispensa percebi que já havia suco o suficiente para este mês, portanto gostaria de trocar tal item\n",
    "# por 'chá'. Peço então que realize tal alteração.\n",
    "\n",
    "# Dica: Qualquer elemento da lista pode ser alterado utilizando corretamente o seu índice."
   ]
  },
  {
   "cell_type": "markdown",
   "metadata": {},
   "source": [
    "# <font color='mediumpurple'>Tuplas</font>"
   ]
  },
  {
   "cell_type": "code",
   "execution_count": null,
   "metadata": {},
   "outputs": [],
   "source": [
    "# As tuplas são containers muito semelhante a listas, porém seu conteúdo é imutável, portanto não pode ser adicionado ou\n",
    "# retirado um elemento após ter sido criada. A lista é criada utilizando 'parênteses ()'\n",
    "\n",
    "# Sua aplicação será abordada um pouco mais a frente."
   ]
  },
  {
   "cell_type": "code",
   "execution_count": 46,
   "metadata": {},
   "outputs": [
    {
     "data": {
      "text/plain": [
       "tuple"
      ]
     },
     "execution_count": 46,
     "metadata": {},
     "output_type": "execute_result"
    }
   ],
   "source": [
    "# Criando uma tupla de elementos\n",
    "tupla1 = ('el1', 'el2', 'el3')\n",
    "type(tupla1)"
   ]
  },
  {
   "cell_type": "code",
   "execution_count": 47,
   "metadata": {},
   "outputs": [
    {
     "name": "stdout",
     "output_type": "stream",
     "text": [
      "(1, 2, 3, 4, 5, 6, 7, 8, 9)\n"
     ]
    }
   ],
   "source": [
    "# Assim como as listas também podemos criar uma tupla a partir de um range de elementos utilizando a função 'tuple'. ex:\n",
    "tupla2 = tuple(range(1,10))\n",
    "print(tupla2)"
   ]
  },
  {
   "cell_type": "code",
   "execution_count": 48,
   "metadata": {},
   "outputs": [
    {
     "data": {
      "text/plain": [
       "int"
      ]
     },
     "execution_count": 48,
     "metadata": {},
     "output_type": "execute_result"
    }
   ],
   "source": [
    "# Um acontecimento relevante a ser abordade é dado pela criação de uma tupla de único elemento. quando tentamos criá-la de forma\n",
    "# convencional, temos o seguinte resultado:\n",
    "tupla3 = (4)\n",
    "type(tupla3)"
   ]
  },
  {
   "cell_type": "code",
   "execution_count": 51,
   "metadata": {},
   "outputs": [
    {
     "data": {
      "text/plain": [
       "tuple"
      ]
     },
     "execution_count": 51,
     "metadata": {},
     "output_type": "execute_result"
    }
   ],
   "source": [
    "# O resultado esperado do código acima era criar um objeto do tipo tupla, porém o resultado foi um do tipo inteiro.\n",
    "# Tal acontecimento devido o fato dos parênteses também serem utilizados para definir prioridades de operações, como é o que\n",
    "# acontece na álgebra: (4 + 4) * 2. Onde o parenteses indica que a operação em parenteses deve ser realizada primeiro.\n",
    "\n",
    "# Para contornar tal resultado inesperado devemos utilizar a ',' como separador de elemento, ainda que haja somente um elemento\n",
    "# na nossa tupla. exemplo:\n",
    "\n",
    "tupla4 = (4,)\n",
    "type(tupla4)"
   ]
  },
  {
   "cell_type": "code",
   "execution_count": 52,
   "metadata": {},
   "outputs": [
    {
     "ename": "AttributeError",
     "evalue": "'tuple' object has no attribute 'append'",
     "output_type": "error",
     "traceback": [
      "\u001b[1;31m---------------------------------------------------------------------------\u001b[0m",
      "\u001b[1;31mAttributeError\u001b[0m                            Traceback (most recent call last)",
      "\u001b[1;32m<ipython-input-52-04ac585efdd3>\u001b[0m in \u001b[0;36m<module>\u001b[1;34m\u001b[0m\n\u001b[0;32m      1\u001b[0m \u001b[1;31m# voltando na ideia das tuplas serem imutáveis, tentaremos realizar um operação do tipo. ex:\u001b[0m\u001b[1;33m\u001b[0m\u001b[1;33m\u001b[0m\u001b[1;33m\u001b[0m\u001b[0m\n\u001b[0;32m      2\u001b[0m \u001b[0mtupla5\u001b[0m \u001b[1;33m=\u001b[0m \u001b[1;33m(\u001b[0m\u001b[1;36m4\u001b[0m\u001b[1;33m,\u001b[0m \u001b[1;36m5\u001b[0m\u001b[1;33m,\u001b[0m \u001b[1;36m6\u001b[0m\u001b[1;33m)\u001b[0m\u001b[1;33m\u001b[0m\u001b[1;33m\u001b[0m\u001b[0m\n\u001b[1;32m----> 3\u001b[1;33m \u001b[0mtupla5\u001b[0m \u001b[1;33m=\u001b[0m \u001b[0mtupla5\u001b[0m\u001b[1;33m.\u001b[0m\u001b[0mappend\u001b[0m\u001b[1;33m(\u001b[0m\u001b[1;36m7\u001b[0m\u001b[1;33m)\u001b[0m\u001b[1;33m\u001b[0m\u001b[1;33m\u001b[0m\u001b[0m\n\u001b[0m",
      "\u001b[1;31mAttributeError\u001b[0m: 'tuple' object has no attribute 'append'"
     ]
    }
   ],
   "source": [
    "# voltando na ideia das tuplas serem imutáveis, tentaremos realizar um operação do tipo. ex:\n",
    "\n",
    "tupla5 = (4, 5, 6)\n",
    "tupla5 = tupla5.append(7)"
   ]
  },
  {
   "cell_type": "code",
   "execution_count": 56,
   "metadata": {},
   "outputs": [
    {
     "name": "stdout",
     "output_type": "stream",
     "text": [
      "(4, 5, 6, 7)\n"
     ]
    }
   ],
   "source": [
    "# O que podemos realizar é concatenar duas tuplas e salvar em uma terceira tupla. ex:\n",
    "tupla6 = (4, 5, 6)\n",
    "tupla7 = (7,)\n",
    "tupla8 = tupla6 + tupla7\n",
    "print(tupla8)"
   ]
  },
  {
   "cell_type": "code",
   "execution_count": null,
   "metadata": {},
   "outputs": [],
   "source": [
    "# As tuplas possuem o objetivo de definir uma estrutura semântica de elementos, onde salvamos elementos imutáveis que seguem\n",
    "# uma dada estrutura.\n",
    "\n",
    "# Um exemplo de uso seria numa aplicação de mapeamento baseado em coordenadas geográficas, na qual precisariamos lidar com\n",
    "# coordenadas fixas, como latitude e logintude. Fazer a atribuição dessas magnitudes a variáveis, produziriam dois objetos\n",
    "# para lidarmos durante nosso trabalho o que em questão de organização não seria muito interessante, a segunda possibilidade\n",
    "# seria de salvá-la em uma lista, porém correríamos o risco de ter tal coordenada alterada durante a execução, o que não\n",
    "# seria o nosso objetivo, então para esta finalidade as listas nos proporcionam o resultado desejado, uma estrutura fixa,\n",
    "# imutável de dados relacionados.\n",
    "\n",
    "# Segundo exemplo: trabalharmos com dados de cadastro de uma pessoa, como, nome, idade e email. também esperamos que esses dados\n",
    "# não sejam alterados durante a concretização do registro de tal cadastro."
   ]
  },
  {
   "cell_type": "code",
   "execution_count": 58,
   "metadata": {},
   "outputs": [
    {
     "name": "stdout",
     "output_type": "stream",
     "text": [
      "Tony Stark\n",
      "Héroi\n",
      "28/05/1970\n"
     ]
    }
   ],
   "source": [
    "# Voltando a discutir a questão de organização, é possível desconstuir uma tupla de volta em seus respectivos elementos e \n",
    "# salvar cada elemento separadamente. ex:\n",
    "\n",
    "tupla8 = ('Tony Stark', 'Héroi', '28/05/1970')\n",
    "nome, profissao, nascimento = tupla8\n",
    "\n",
    "print(nome)\n",
    "print(profissao)\n",
    "print(nascimento)"
   ]
  },
  {
   "cell_type": "markdown",
   "metadata": {},
   "source": [
    "# <font color='mediumpurple'>Índices</font>"
   ]
  },
  {
   "cell_type": "code",
   "execution_count": 1,
   "metadata": {},
   "outputs": [],
   "source": [
    "# Voltando ao conceito de containers, foi dito que tais objetos fornecem acesso a cada elemento através de um indice.\n",
    "# O índice em pythom é uma sequência numérica linear que começa por 0, permitindo o acesso do respectivo elemento em um dado\n",
    "# container. "
   ]
  },
  {
   "cell_type": "code",
   "execution_count": 3,
   "metadata": {},
   "outputs": [
    {
     "name": "stdout",
     "output_type": "stream",
     "text": [
      "t\n"
     ]
    }
   ],
   "source": [
    "# Ex. com Strings:\n",
    "# Podemos acessar cada elemento de uma string através de seu respectivo índice utilizando '[ìndice]'. ex:\n",
    "\n",
    "string = 'In this notebook we hate java'\n",
    "print(string[3])\n",
    "\n",
    "# Note que o índice 3 refere-se ao 4º caractere da string, pois a indexação em python começa com 0."
   ]
  },
  {
   "cell_type": "code",
   "execution_count": 5,
   "metadata": {},
   "outputs": [
    {
     "name": "stdout",
     "output_type": "stream",
     "text": [
      "n\n"
     ]
    }
   ],
   "source": [
    "# Outra característica dos índices é que eles podem ser acessado da direita para esquerda, ao utilizar índices negativos. ex:\n",
    "\n",
    "string1 = 'And we love python'\n",
    "print(string1[-1])\n",
    "\n",
    "# Note que o índice [-1] refere-se ao último elemento da string. E seguindo a sequência o [-2] seria o penúltimo..."
   ]
  },
  {
   "cell_type": "code",
   "execution_count": 7,
   "metadata": {},
   "outputs": [
    {
     "name": "stdout",
     "output_type": "stream",
     "text": [
      "elemento1\n"
     ]
    }
   ],
   "source": [
    "# Ex com listas:\n",
    "# Semelhante ao funcionamento de índices com strings, temos seu uso em listas, o qual cada índice refere-se a um elemento\n",
    "# contido na lista.\n",
    "\n",
    "lista12 = ['elemento1', 'elemento2', 'elemento3', 'elemento4', 'elemento5', 'elemento6', 'elemento6', 'elemento7']\n",
    "print(lista12[0])\n",
    "\n",
    "# Note a questão do indice iniciar em 0. Neste caso o elemento respectivo ao 'indice 0' é o item 'elemento1'."
   ]
  },
  {
   "cell_type": "code",
   "execution_count": 74,
   "metadata": {},
   "outputs": [
    {
     "name": "stdout",
     "output_type": "stream",
     "text": [
      "c\n"
     ]
    }
   ],
   "source": [
    "# Podemos também utilizar sub-indices. quando possuimos um container dentro de um container. ex: lista dentro de lista:\n",
    "\n",
    "lista13 = [1, 2, 3, 4, 5, ['a', 'b', 'c', 'd', 'e']]\n",
    "print(lista13[5][2])\n",
    "\n",
    "# Neste caso retornamos o elemento 2 dentro do elemento 5."
   ]
  },
  {
   "cell_type": "code",
   "execution_count": 12,
   "metadata": {},
   "outputs": [
    {
     "name": "stdout",
     "output_type": "stream",
     "text": [
      "3\n"
     ]
    }
   ],
   "source": [
    "# Uma observação a ser lembrada é de que strings também são containers, assim cada elemento de uma string dentro de uma\n",
    "# lista também pode ser acessada individualmente. ex:\n",
    "\n",
    "lista14 = ['elemento1', 'elemento2', 'elemento3']\n",
    "print(lista14[2][8])\n",
    "\n",
    "# Neste caso retornamos o 'sub-elemento de indice 8' que pertence ao 'elemento de indice 2'. "
   ]
  },
  {
   "cell_type": "markdown",
   "metadata": {},
   "source": [
    "# <font color='mediumpurple'>Slice - Fatiamento</font>"
   ]
  },
  {
   "cell_type": "code",
   "execution_count": null,
   "metadata": {},
   "outputs": [],
   "source": [
    "# Um conceito interessante e bastante util é o de Slice (Fatiamento), na qual realizamos o fatiamento do nosso container de\n",
    "# de forma a retornar somente alguns elementos. Para compreendermos tal conceito utilizaremos de exemplos, pois ficará mais\n",
    "# claro."
   ]
  },
  {
   "cell_type": "code",
   "execution_count": null,
   "metadata": {},
   "outputs": [],
   "source": [
    "# Slice com strings"
   ]
  },
  {
   "cell_type": "markdown",
   "metadata": {},
   "source": [
    "### <font color='lightseagreen'>Slice com strings</font>"
   ]
  },
  {
   "cell_type": "code",
   "execution_count": 13,
   "metadata": {},
   "outputs": [
    {
     "name": "stdout",
     "output_type": "stream",
     "text": [
      "1234\n"
     ]
    }
   ],
   "source": [
    "# Já é de nosso conhecimento a forma como retornamos apenas um unico elemento de uma string ou lista utilizando []\n",
    "# A aplicação  do slice é bem semelhante porém adicionamos mais alguns parâmetros a serem utilizados no fatiamente. \n",
    "# Como exemplo desejamos salvar uma faixa de caracteres da nossa string em uma outra variável (code) exemplo. ex:\n",
    "sstr = '@1234c'\n",
    "code = sstr[1:5]\n",
    "print(code)"
   ]
  },
  {
   "cell_type": "code",
   "execution_count": null,
   "metadata": {},
   "outputs": [],
   "source": [
    "# A ideia do código acima é a mesma utilizada pelo bot de verificação de emails utilizadas no nosso servidor do discord, \n",
    "# o qual através de um unico comando digitado no chat, é possível que script realize o Slice (fatiamento) e identifique  a \n",
    "# ação a ser executada, o código a ser verificado e o eixo de estudos escolhido a partir de um único comando."
   ]
  },
  {
   "cell_type": "code",
   "execution_count": 25,
   "metadata": {},
   "outputs": [
    {
     "data": {
      "text/plain": [
       "114"
      ]
     },
     "execution_count": 25,
     "metadata": {},
     "output_type": "execute_result"
    }
   ],
   "source": [
    "# Ficar contando quantos caractere tem uma string para sabermos seus limites de índice é uma tarefa que se torna bem complicada\n",
    "# a medida que o número de elementos aumentam.\n",
    "\n",
    "# Para resolver tal complicação podemos utilizar a função 'len()' que retorna o comprimento (length) de um determinado container\n",
    "# desta forma saberemos quantos elementos contém tal container. ex:\n",
    "\n",
    "sstr0 = 'São muitos caracteres pra ficar contando toda vez que desejarmos utilizar índices, len() simplifica isso pra gente'\n",
    "len(sstr0)"
   ]
  },
  {
   "cell_type": "code",
   "execution_count": 26,
   "metadata": {},
   "outputs": [
    {
     "name": "stdout",
     "output_type": "stream",
     "text": [
      "e\n"
     ]
    }
   ],
   "source": [
    "# Uma observação a ser feita é de que o índice máximo de um container sempre será o (número de elementos - 1) devido a indexação\n",
    "# iniciar em 0. ex. o 115º elemento da string acima é dado pelo seguinte indice:\n",
    "\n",
    "print(sstr0[113])"
   ]
  },
  {
   "cell_type": "code",
   "execution_count": 21,
   "metadata": {},
   "outputs": [
    {
     "ename": "IndexError",
     "evalue": "string index out of range",
     "output_type": "error",
     "traceback": [
      "\u001b[1;31m---------------------------------------------------------------------------\u001b[0m",
      "\u001b[1;31mIndexError\u001b[0m                                Traceback (most recent call last)",
      "\u001b[1;32m<ipython-input-21-ad9289cf1946>\u001b[0m in \u001b[0;36m<module>\u001b[1;34m\u001b[0m\n\u001b[0;32m      1\u001b[0m \u001b[1;31m# Caso seja utilizado o indice do número total de elementos, teremos o seguinte resultado:\u001b[0m\u001b[1;33m\u001b[0m\u001b[1;33m\u001b[0m\u001b[1;33m\u001b[0m\u001b[0m\n\u001b[0;32m      2\u001b[0m \u001b[1;33m\u001b[0m\u001b[0m\n\u001b[1;32m----> 3\u001b[1;33m \u001b[0mprint\u001b[0m\u001b[1;33m(\u001b[0m\u001b[0msstr0\u001b[0m\u001b[1;33m[\u001b[0m\u001b[1;36m115\u001b[0m\u001b[1;33m]\u001b[0m\u001b[1;33m)\u001b[0m\u001b[1;33m\u001b[0m\u001b[1;33m\u001b[0m\u001b[0m\n\u001b[0m",
      "\u001b[1;31mIndexError\u001b[0m: string index out of range"
     ]
    }
   ],
   "source": [
    "# Caso seja utilizado o indice do número total de elementos, teremos o seguinte resultado:\n",
    "\n",
    "print(sstr0[115])"
   ]
  },
  {
   "cell_type": "code",
   "execution_count": 24,
   "metadata": {},
   "outputs": [
    {
     "name": "stdout",
     "output_type": "stream",
     "text": [
      "Vou fatiar os caras heim rapaziada\n"
     ]
    }
   ],
   "source": [
    "# Podemos aplicar o Slice (fatiamento) utilizando as mesmas regras da função 'range()', vista anteriormente\n",
    "# porém atente-se para mudaça de separadaores de parâmetros qua agora é ':'\n",
    "\n",
    "sstr1 = 'Vyowuf dfeaitgihabrk golsç gcfadryaisj thueeiwmd hrbacpdajzkiladdqar'\n",
    "fatia = sstr1[0:-1:2]\n",
    "print(fatia)\n",
    "\n",
    "# retorna os elementos da lista começando no indice '0 inclusivo', até p indice '-1 (ultimo elemento) exclusivo' \n",
    "# em saltos de '2 itens'"
   ]
  },
  {
   "cell_type": "code",
   "execution_count": null,
   "metadata": {},
   "outputs": [],
   "source": [
    "# Explicando em detalhes cada um dos parâmetros do fatiamento:\n",
    "# [o 1º = inicio do slice (inclusivo) : o 2º = ultimo elemento (exclusivo) : salto]\n",
    "\n",
    "# Explicando o padrão vazio:\n",
    "# [1º vazio = 0 : 2º vazio = último elemento : 3º vazio = salto unitário(1)]"
   ]
  },
  {
   "cell_type": "markdown",
   "metadata": {},
   "source": [
    "### <font color='orange'>Exercícios</font>"
   ]
  },
  {
   "cell_type": "code",
   "execution_count": 5,
   "metadata": {},
   "outputs": [],
   "source": [
    "# Após bater a cabeça no teclado a seguinte sequência de caracteres foi obtida. De início aparentava não significar nada, mas\n",
    "# depois de um tempo analizando percebi que talvez possa haver alguma mensagem escondida, então, dada a string abaixo realize \n",
    "# o Slice iniciando no 4º elemento, terminando no último elemento, com salto de 3 elementos, salve em uma nova variável e então\n",
    "# a imprima:\n",
    "exe_string1 = 'jihPeradfrtyajhbkuéoln~pslk,cv sdverosvcjuêlo ,jahjctfemdrajtkqocoump!a'"
   ]
  },
  {
   "cell_type": "code",
   "execution_count": 6,
   "metadata": {},
   "outputs": [
    {
     "name": "stdout",
     "output_type": "stream",
     "text": [
      "Parabéns, você acertou!\n"
     ]
    }
   ],
   "source": [
    "# Resp:\n",
    "a = exe_string1[3:-1:3]\n",
    "print(a)"
   ]
  },
  {
   "cell_type": "code",
   "execution_count": 22,
   "metadata": {},
   "outputs": [],
   "source": [
    "# Ohh não, um bug no meu computador inverteu o link da youtube da música que eu ia mandar pra crush. Você poderia me ajudar?\n",
    "# Basta invertê-la para mim e serei eternamente grato a você, até te darei um biscoito.\n",
    "\n",
    "# Dica: A resposta esta em usar corretamente os parâmetros do slice.\n",
    "\n",
    "exe_string2 = 'ko0Zpt0pnLn=v?hctaw/moc.ebutuoy.www//:sptth'"
   ]
  },
  {
   "cell_type": "code",
   "execution_count": 23,
   "metadata": {},
   "outputs": [
    {
     "name": "stdout",
     "output_type": "stream",
     "text": [
      "https://www.youtube.com/watch?v=nLnp0tpZ0ok\n"
     ]
    }
   ],
   "source": [
    "# Resp.\n",
    "b = exe_string2[::-1]\n",
    "print(b)"
   ]
  },
  {
   "cell_type": "markdown",
   "metadata": {},
   "source": [
    "### <font color='lightseagreen'>Slice de listas</font>"
   ]
  },
  {
   "cell_type": "code",
   "execution_count": 28,
   "metadata": {},
   "outputs": [
    {
     "name": "stdout",
     "output_type": "stream",
     "text": [
      "[1, 3, 5]\n"
     ]
    }
   ],
   "source": [
    "# Podemos retornar um range (faixa) de itens em uma lista, utilizando as mesmas regras da função 'range()', vista anteriormente\n",
    "# porém atente-se para mudaça de separadaores de parâmetros qua agora é ':'\n",
    "\n",
    "lista15 = [1, 2, 3, 4, 5, 6, 7, 8, 9, 10]\n",
    "print(lista15[0:5:2])\n",
    "\n",
    "# retorna os elementos da lista começando no indice '0 inclusivo', até p indice '5 exclusivo' em saltos de '2 itens'"
   ]
  },
  {
   "cell_type": "code",
   "execution_count": 29,
   "metadata": {},
   "outputs": [
    {
     "data": {
      "text/plain": [
       "10"
      ]
     },
     "execution_count": 29,
     "metadata": {},
     "output_type": "execute_result"
    }
   ],
   "source": [
    "# Podemos utilizar a função len para retornar o número de elementos de uma lista.\n",
    "lista16 = [1, 2, 3, 4, 5, 6, 7, 8, 9, 10]\n",
    "len(lista15)"
   ]
  },
  {
   "cell_type": "markdown",
   "metadata": {},
   "source": [
    "### <font color='lightseagreen'>Slice de tuplas</font>"
   ]
  },
  {
   "cell_type": "code",
   "execution_count": null,
   "metadata": {},
   "outputs": [],
   "source": [
    "# O slice com tuplas funciona da mesma forma como acontece nas listas. então não abordaremos nada aqui :D"
   ]
  },
  {
   "cell_type": "code",
   "execution_count": null,
   "metadata": {},
   "outputs": [],
   "source": [
    "The very first thing that might scare or discourage a newbie programmer is the scale of educational material. \n",
    "The trick here is to treat each concept as an option offered by language, you’re not expected to learn all the \n",
    "language concepts and modules all at once. There are always different ways to solve the same task. Take it as one \n",
    "more tool to get the job done."
   ]
  },
  {
   "cell_type": "markdown",
   "metadata": {},
   "source": [
    "#### <font color='peru'>\"A primeira coisa que pode assustar ou desencorajar um programador iniciante é a escala do material educacional. O truque aqui é tratar cada conceito como uma opção oferecida pela linguagem. Não é esperado que você aprenda todos os conceitos e módulos da linguagem de uma só vez. Sempre haverá maneiras diferentes de resolver o mesmo problema. Leve isso como mais uma ferramenta para realizar o trabalho\".</font>"
   ]
  },
  {
   "cell_type": "markdown",
   "metadata": {},
   "source": [
    "# Fim"
   ]
  }
 ],
 "metadata": {
  "kernelspec": {
   "display_name": "Python 3",
   "language": "python",
   "name": "python3"
  },
  "language_info": {
   "codemirror_mode": {
    "name": "ipython",
    "version": 3
   },
   "file_extension": ".py",
   "mimetype": "text/x-python",
   "name": "python",
   "nbconvert_exporter": "python",
   "pygments_lexer": "ipython3",
   "version": "3.7.4"
  }
 },
 "nbformat": 4,
 "nbformat_minor": 1
}
