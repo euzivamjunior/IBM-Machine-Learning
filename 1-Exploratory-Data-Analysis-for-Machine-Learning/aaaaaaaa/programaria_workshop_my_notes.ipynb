{
 "cells": [
  {
   "cell_type": "markdown",
   "metadata": {},
   "source": [
    "# <font color='hotblue'>Spring AI Programaria - Anotações de estudo</font>\n",
    "\n",
    "## Workshop Primeiro Projeto de Machine Learning - by Fernanda Wanderley"
   ]
  },
  {
   "cell_type": "markdown",
   "metadata": {},
   "source": [
    "Este notebok é destinado as anotações de estudos realizados no 1 º Workshop do SpringAI 2020, os links para os materiais utilizados encontram-se ao final do notebook. Meus agradecimentos a Fernanda Wanderley por desenvolver um workshop muito produtivo."
   ]
  },
  {
   "cell_type": "markdown",
   "metadata": {},
   "source": [
    "# <font color='lightseagreen'>Instalando e Importando Pacotes</font>"
   ]
  },
  {
   "cell_type": "code",
   "execution_count": 2,
   "metadata": {},
   "outputs": [
    {
     "name": "stdout",
     "output_type": "stream",
     "text": [
      "Collecting plotnine"
     ]
    },
    {
     "name": "stderr",
     "output_type": "stream",
     "text": [
      "ERROR: Could not install packages due to an EnvironmentError: [WinError 5] Access is denied: 'C:\\\\Users\\\\esousasilvaj\\\\Anaconda3\\\\Lib\\\\site-packages\\\\~andas\\\\_libs\\\\algos.cp38-win_amd64.pyd'\n",
      "Consider using the `--user` option or check the permissions.\n",
      "\n"
     ]
    },
    {
     "name": "stdout",
     "output_type": "stream",
     "text": [
      "\n",
      "  Downloading plotnine-0.7.1-py3-none-any.whl (4.4 MB)\n",
      "Collecting mizani>=0.7.1\n",
      "  Downloading mizani-0.7.2-py3-none-any.whl (62 kB)\n",
      "Collecting descartes>=1.1.0\n",
      "  Downloading descartes-1.1.0-py3-none-any.whl (5.8 kB)\n",
      "Requirement already satisfied: matplotlib>=3.1.1 in c:\\users\\esousasilvaj\\anaconda3\\lib\\site-packages (from plotnine) (3.2.2)\n",
      "Requirement already satisfied: patsy>=0.5.1 in c:\\users\\esousasilvaj\\anaconda3\\lib\\site-packages (from plotnine) (0.5.1)\n",
      "Collecting pandas>=1.1.0\n",
      "  Downloading pandas-1.2.2-cp38-cp38-win_amd64.whl (9.3 MB)\n",
      "Requirement already satisfied: statsmodels>=0.11.1 in c:\\users\\esousasilvaj\\anaconda3\\lib\\site-packages (from plotnine) (0.11.1)\n",
      "Requirement already satisfied: numpy>=1.16.0 in c:\\users\\esousasilvaj\\anaconda3\\lib\\site-packages (from plotnine) (1.18.5)\n",
      "Requirement already satisfied: scipy>=1.2.0 in c:\\users\\esousasilvaj\\anaconda3\\lib\\site-packages (from plotnine) (1.5.0)\n",
      "Collecting palettable\n",
      "  Downloading palettable-3.3.0-py2.py3-none-any.whl (111 kB)\n",
      "Requirement already satisfied: kiwisolver>=1.0.1 in c:\\users\\esousasilvaj\\anaconda3\\lib\\site-packages (from matplotlib>=3.1.1->plotnine) (1.2.0)\n",
      "Requirement already satisfied: pyparsing!=2.0.4,!=2.1.2,!=2.1.6,>=2.0.1 in c:\\users\\esousasilvaj\\anaconda3\\lib\\site-packages (from matplotlib>=3.1.1->plotnine) (2.4.7)\n",
      "Requirement already satisfied: python-dateutil>=2.1 in c:\\users\\esousasilvaj\\anaconda3\\lib\\site-packages (from matplotlib>=3.1.1->plotnine) (2.8.1)\n",
      "Requirement already satisfied: cycler>=0.10 in c:\\users\\esousasilvaj\\anaconda3\\lib\\site-packages (from matplotlib>=3.1.1->plotnine) (0.10.0)\n",
      "Requirement already satisfied: six in c:\\users\\esousasilvaj\\anaconda3\\lib\\site-packages (from patsy>=0.5.1->plotnine) (1.15.0)\n",
      "Requirement already satisfied: pytz>=2017.3 in c:\\users\\esousasilvaj\\anaconda3\\lib\\site-packages (from pandas>=1.1.0->plotnine) (2020.1)\n",
      "Installing collected packages: pandas, palettable, mizani, descartes, plotnine\n",
      "  Attempting uninstall: pandas\n",
      "    Found existing installation: pandas 1.0.5\n",
      "    Uninstalling pandas-1.0.5:\n",
      "      Successfully uninstalled pandas-1.0.5\n"
     ]
    }
   ],
   "source": [
    "# Caso não tenha instalado os pacotes necessários retire a '#' que precede cada uma das linhas abaixos e execute esta célula.\n",
    "#!pip install pandas\n",
    "#!pip install -U scikit-learn\n",
    "#!pip install matplotlib\n",
    "#!pip install seaborn\n",
    "!pip install plotnine"
   ]
  },
  {
   "cell_type": "code",
   "execution_count": 5,
   "metadata": {},
   "outputs": [],
   "source": [
    "# Importando os pacotes necessários para o nosso trabalho neste notebook.\n",
    "\n",
    "\n",
    "from scipy import stats\n",
    "# 'pandas' é um pacote utilizado para trabalhar com os dados em forma de dataset (armazenamento de dados em um tipo de tabela)\n",
    "import pandas as pd\n",
    "# 'matplotlib' é um pacote utilizado para realizar a construção/plotagem de gráficos\n",
    "import matplotlib.pyplot as plt\n",
    "# 'seaborn' é um pacote também utilizado para realizar plotagem de gráficos\n",
    "import seaborn as sns\n",
    "# 'plotnine' é um pacote p/ construção de gráficos | Idéia do código abaixo: Do 'pacote plotline' importe 'todas as funções (*)'\n",
    "from plotnine import *\n",
    "# 'numpy' é um pacote python utilizado para cálculo numérico.\n",
    "import numpy as np\n",
    "\n",
    "\n",
    "\n",
    "# a partir do pacote sklearn.model_selection, importamos a função de separação de dados para treinamento.\n",
    "#from sklearn.model_selection import train_test_split\n",
    "# a partir do pacote sklearn.preprocessing, importamos a função de padronização escalar de dados.\n",
    "#from sklearn.preprocessing import StandardScaler\n",
    "# a partir do pacote sklearn.linear_model, importamos a função de Regressão Logística.\n",
    "#from sklearn.linear_model import LogisticRegression\n",
    "# a partir do pacote sklearn, importamos a função de metricas\n",
    "#from sklearn import metrics\n",
    "# pacote utilizado para salvar o modelo treinado\n",
    "#import pickle"
   ]
  },
  {
   "cell_type": "markdown",
   "metadata": {},
   "source": [
    "# <font color='mediumpurple'>Carregando e Visualizando o Dataset</font>"
   ]
  },
  {
   "cell_type": "code",
   "execution_count": 11,
   "metadata": {},
   "outputs": [],
   "source": [
    "# Carregando os dados a serem utilizados na memória de trabalho através da função read_csv do pacote pandas (pd) e salvando-a\n",
    "# como um objeto de nome 'df'.\n",
    "df = pd.read_csv('movie_metadata.csv')"
   ]
  },
  {
   "cell_type": "code",
   "execution_count": 10,
   "metadata": {},
   "outputs": [
    {
     "ename": "AttributeError",
     "evalue": "'NoneType' object has no attribute 'items'",
     "output_type": "error",
     "traceback": [
      "\u001b[1;31m---------------------------------------------------------------------------\u001b[0m",
      "\u001b[1;31mAttributeError\u001b[0m                            Traceback (most recent call last)",
      "\u001b[1;32m~\\Anaconda3\\lib\\site-packages\\IPython\\core\\formatters.py\u001b[0m in \u001b[0;36m__call__\u001b[1;34m(self, obj)\u001b[0m\n\u001b[0;32m    343\u001b[0m             \u001b[0mmethod\u001b[0m \u001b[1;33m=\u001b[0m \u001b[0mget_real_method\u001b[0m\u001b[1;33m(\u001b[0m\u001b[0mobj\u001b[0m\u001b[1;33m,\u001b[0m \u001b[0mself\u001b[0m\u001b[1;33m.\u001b[0m\u001b[0mprint_method\u001b[0m\u001b[1;33m)\u001b[0m\u001b[1;33m\u001b[0m\u001b[1;33m\u001b[0m\u001b[0m\n\u001b[0;32m    344\u001b[0m             \u001b[1;32mif\u001b[0m \u001b[0mmethod\u001b[0m \u001b[1;32mis\u001b[0m \u001b[1;32mnot\u001b[0m \u001b[1;32mNone\u001b[0m\u001b[1;33m:\u001b[0m\u001b[1;33m\u001b[0m\u001b[1;33m\u001b[0m\u001b[0m\n\u001b[1;32m--> 345\u001b[1;33m                 \u001b[1;32mreturn\u001b[0m \u001b[0mmethod\u001b[0m\u001b[1;33m(\u001b[0m\u001b[1;33m)\u001b[0m\u001b[1;33m\u001b[0m\u001b[1;33m\u001b[0m\u001b[0m\n\u001b[0m\u001b[0;32m    346\u001b[0m             \u001b[1;32mreturn\u001b[0m \u001b[1;32mNone\u001b[0m\u001b[1;33m\u001b[0m\u001b[1;33m\u001b[0m\u001b[0m\n\u001b[0;32m    347\u001b[0m         \u001b[1;32melse\u001b[0m\u001b[1;33m:\u001b[0m\u001b[1;33m\u001b[0m\u001b[1;33m\u001b[0m\u001b[0m\n",
      "\u001b[1;32m~\\Anaconda3\\lib\\site-packages\\pandas\\core\\frame.py\u001b[0m in \u001b[0;36m_repr_html_\u001b[1;34m(self)\u001b[0m\n\u001b[0;32m    732\u001b[0m         \u001b[0mGH3541\u001b[0m\u001b[1;33m,\u001b[0m \u001b[0mGH3573\u001b[0m\u001b[1;33m\u001b[0m\u001b[1;33m\u001b[0m\u001b[0m\n\u001b[0;32m    733\u001b[0m         \"\"\"\n\u001b[1;32m--> 734\u001b[1;33m         \u001b[0mwidth\u001b[0m\u001b[1;33m,\u001b[0m \u001b[0mheight\u001b[0m \u001b[1;33m=\u001b[0m \u001b[0mconsole\u001b[0m\u001b[1;33m.\u001b[0m\u001b[0mget_console_size\u001b[0m\u001b[1;33m(\u001b[0m\u001b[1;33m)\u001b[0m\u001b[1;33m\u001b[0m\u001b[1;33m\u001b[0m\u001b[0m\n\u001b[0m\u001b[0;32m    735\u001b[0m         \u001b[0mmax_columns\u001b[0m \u001b[1;33m=\u001b[0m \u001b[0mget_option\u001b[0m\u001b[1;33m(\u001b[0m\u001b[1;34m\"display.max_columns\"\u001b[0m\u001b[1;33m)\u001b[0m\u001b[1;33m\u001b[0m\u001b[1;33m\u001b[0m\u001b[0m\n\u001b[0;32m    736\u001b[0m         \u001b[0mnb_columns\u001b[0m \u001b[1;33m=\u001b[0m \u001b[0mlen\u001b[0m\u001b[1;33m(\u001b[0m\u001b[0mself\u001b[0m\u001b[1;33m.\u001b[0m\u001b[0mcolumns\u001b[0m\u001b[1;33m)\u001b[0m\u001b[1;33m\u001b[0m\u001b[1;33m\u001b[0m\u001b[0m\n",
      "\u001b[1;32m~\\Anaconda3\\lib\\site-packages\\pandas\\io\\formats\\format.py\u001b[0m in \u001b[0;36mto_html\u001b[1;34m(self, buf, encoding, classes, notebook, border)\u001b[0m\n\u001b[0;32m    980\u001b[0m             \u001b[0mBuffer\u001b[0m \u001b[0mto\u001b[0m \u001b[0mwrite\u001b[0m \u001b[0mto\u001b[0m\u001b[1;33m.\u001b[0m \u001b[0mIf\u001b[0m \u001b[1;32mNone\u001b[0m\u001b[1;33m,\u001b[0m \u001b[0mthe\u001b[0m \u001b[0moutput\u001b[0m \u001b[1;32mis\u001b[0m \u001b[0mreturned\u001b[0m \u001b[1;32mas\u001b[0m \u001b[0ma\u001b[0m \u001b[0mstring\u001b[0m\u001b[1;33m.\u001b[0m\u001b[1;33m\u001b[0m\u001b[1;33m\u001b[0m\u001b[0m\n\u001b[0;32m    981\u001b[0m         \u001b[0mencoding\u001b[0m \u001b[1;33m:\u001b[0m \u001b[0mstr\u001b[0m\u001b[1;33m,\u001b[0m \u001b[0mdefault\u001b[0m\u001b[0;31m \u001b[0m\u001b[0;31m“\u001b[0m\u001b[0mutf\u001b[0m\u001b[1;33m-\u001b[0m\u001b[1;36m8\u001b[0m\u001b[0;31m”\u001b[0m\u001b[1;33m\u001b[0m\u001b[1;33m\u001b[0m\u001b[0m\n\u001b[1;32m--> 982\u001b[1;33m             \u001b[0mSet\u001b[0m \u001b[0mcharacter\u001b[0m \u001b[0mencoding\u001b[0m\u001b[1;33m.\u001b[0m\u001b[1;33m\u001b[0m\u001b[1;33m\u001b[0m\u001b[0m\n\u001b[0m\u001b[0;32m    983\u001b[0m         \u001b[0mclasses\u001b[0m \u001b[1;33m:\u001b[0m \u001b[0mstr\u001b[0m \u001b[1;32mor\u001b[0m \u001b[0mlist\u001b[0m\u001b[1;33m-\u001b[0m\u001b[0mlike\u001b[0m\u001b[1;33m\u001b[0m\u001b[1;33m\u001b[0m\u001b[0m\n\u001b[0;32m    984\u001b[0m             \u001b[0mclasses\u001b[0m \u001b[0mto\u001b[0m \u001b[0minclude\u001b[0m \u001b[1;32min\u001b[0m \u001b[0mthe\u001b[0m\u001b[0;31m \u001b[0m\u001b[0;31m`\u001b[0m\u001b[1;32mclass\u001b[0m\u001b[0;31m`\u001b[0m \u001b[0mattribute\u001b[0m \u001b[0mof\u001b[0m \u001b[0mthe\u001b[0m \u001b[0mopening\u001b[0m\u001b[1;33m\u001b[0m\u001b[1;33m\u001b[0m\u001b[0m\n",
      "\u001b[1;32m~\\Anaconda3\\lib\\site-packages\\pandas\\io\\formats\\html.py\u001b[0m in \u001b[0;36m__init__\u001b[1;34m(self, formatter, classes, border, table_id, render_links)\u001b[0m\n\u001b[0;32m     54\u001b[0m         self.col_space = {\n\u001b[0;32m     55\u001b[0m             \u001b[0mcolumn\u001b[0m\u001b[1;33m:\u001b[0m \u001b[1;34mf\"{value}px\"\u001b[0m \u001b[1;32mif\u001b[0m \u001b[0misinstance\u001b[0m\u001b[1;33m(\u001b[0m\u001b[0mvalue\u001b[0m\u001b[1;33m,\u001b[0m \u001b[0mint\u001b[0m\u001b[1;33m)\u001b[0m \u001b[1;32melse\u001b[0m \u001b[0mvalue\u001b[0m\u001b[1;33m\u001b[0m\u001b[1;33m\u001b[0m\u001b[0m\n\u001b[1;32m---> 56\u001b[1;33m             \u001b[1;32mfor\u001b[0m \u001b[0mcolumn\u001b[0m\u001b[1;33m,\u001b[0m \u001b[0mvalue\u001b[0m \u001b[1;32min\u001b[0m \u001b[0mself\u001b[0m\u001b[1;33m.\u001b[0m\u001b[0mfmt\u001b[0m\u001b[1;33m.\u001b[0m\u001b[0mcol_space\u001b[0m\u001b[1;33m.\u001b[0m\u001b[0mitems\u001b[0m\u001b[1;33m(\u001b[0m\u001b[1;33m)\u001b[0m\u001b[1;33m\u001b[0m\u001b[1;33m\u001b[0m\u001b[0m\n\u001b[0m\u001b[0;32m     57\u001b[0m         }\n\u001b[0;32m     58\u001b[0m \u001b[1;33m\u001b[0m\u001b[0m\n",
      "\u001b[1;31mAttributeError\u001b[0m: 'NoneType' object has no attribute 'items'"
     ]
    },
    {
     "data": {
      "text/plain": [
       "   color      director_name  num_critic_for_reviews  duration  \\\n",
       "0  Color      James Cameron                   723.0     178.0   \n",
       "1  Color     Gore Verbinski                   302.0     169.0   \n",
       "2  Color         Sam Mendes                   602.0     148.0   \n",
       "3  Color  Christopher Nolan                   813.0     164.0   \n",
       "4    NaN        Doug Walker                     NaN       NaN   \n",
       "\n",
       "   director_facebook_likes  actor_3_facebook_likes      actor_2_name  \\\n",
       "0                      0.0                   855.0  Joel David Moore   \n",
       "1                    563.0                  1000.0     Orlando Bloom   \n",
       "2                      0.0                   161.0      Rory Kinnear   \n",
       "3                  22000.0                 23000.0    Christian Bale   \n",
       "4                    131.0                     NaN        Rob Walker   \n",
       "\n",
       "   actor_1_facebook_likes        gross                           genres  ...  \\\n",
       "0                  1000.0  760505847.0  Action|Adventure|Fantasy|Sci-Fi  ...   \n",
       "1                 40000.0  309404152.0         Action|Adventure|Fantasy  ...   \n",
       "2                 11000.0  200074175.0        Action|Adventure|Thriller  ...   \n",
       "3                 27000.0  448130642.0                  Action|Thriller  ...   \n",
       "4                   131.0          NaN                      Documentary  ...   \n",
       "\n",
       "  num_user_for_reviews language  country  content_rating       budget  \\\n",
       "0               3054.0  English      USA           PG-13  237000000.0   \n",
       "1               1238.0  English      USA           PG-13  300000000.0   \n",
       "2                994.0  English       UK           PG-13  245000000.0   \n",
       "3               2701.0  English      USA           PG-13  250000000.0   \n",
       "4                  NaN      NaN      NaN             NaN          NaN   \n",
       "\n",
       "   title_year actor_2_facebook_likes imdb_score  aspect_ratio  \\\n",
       "0      2009.0                  936.0        7.9          1.78   \n",
       "1      2007.0                 5000.0        7.1          2.35   \n",
       "2      2015.0                  393.0        6.8          2.35   \n",
       "3      2012.0                23000.0        8.5          2.35   \n",
       "4         NaN                   12.0        7.1           NaN   \n",
       "\n",
       "  movie_facebook_likes  \n",
       "0                33000  \n",
       "1                    0  \n",
       "2                85000  \n",
       "3               164000  \n",
       "4                    0  \n",
       "\n",
       "[5 rows x 28 columns]"
      ]
     },
     "execution_count": 10,
     "metadata": {},
     "output_type": "execute_result"
    }
   ],
   "source": [
    "# A primeira a coisa a se fazer após importar os dados é realizar a impressão do mesmo para que possamos visualizar seu\n",
    "# conteúdo e começar a pensar na forma de análise, para tal utilizamos a função head() que imprime o cabeçalho (primeiras\n",
    "# linhas do dataframe). Note que a função head() é dada como um método do objeto (df) onde salvamos o dataframe anteriormente.\n",
    "df.head()"
   ]
  },
  {
   "cell_type": "code",
   "execution_count": 8,
   "metadata": {},
   "outputs": [
    {
     "data": {
      "text/plain": [
       "(5043, 28)"
      ]
     },
     "execution_count": 8,
     "metadata": {},
     "output_type": "execute_result"
    }
   ],
   "source": [
    "# Para visualizarmos o shape (forma) do nosso dataset utilizamos o método shape:\n",
    "df.shape"
   ]
  },
  {
   "cell_type": "markdown",
   "metadata": {},
   "source": [
    "A célula acima retorna: (nº_linhas, nº_colunas) do dataset."
   ]
  },
  {
   "cell_type": "code",
   "execution_count": 7,
   "metadata": {},
   "outputs": [
    {
     "data": {
      "text/plain": [
       "color                         object\n",
       "director_name                 object\n",
       "num_critic_for_reviews       float64\n",
       "duration                     float64\n",
       "director_facebook_likes      float64\n",
       "actor_3_facebook_likes       float64\n",
       "actor_2_name                  object\n",
       "actor_1_facebook_likes       float64\n",
       "gross                        float64\n",
       "genres                        object\n",
       "actor_1_name                  object\n",
       "movie_title                   object\n",
       "num_voted_users                int64\n",
       "cast_total_facebook_likes      int64\n",
       "actor_3_name                  object\n",
       "facenumber_in_poster         float64\n",
       "plot_keywords                 object\n",
       "movie_imdb_link               object\n",
       "num_user_for_reviews         float64\n",
       "language                      object\n",
       "country                       object\n",
       "content_rating                object\n",
       "budget                       float64\n",
       "title_year                   float64\n",
       "actor_2_facebook_likes       float64\n",
       "imdb_score                   float64\n",
       "aspect_ratio                 float64\n",
       "movie_facebook_likes           int64\n",
       "dtype: object"
      ]
     },
     "execution_count": 7,
     "metadata": {},
     "output_type": "execute_result"
    }
   ],
   "source": [
    "# Utilizando o método '.dtypes' podemos visualizar o tipo de cada variável (coluna) contida no dataframe\n",
    "df.dtypes"
   ]
  },
  {
   "cell_type": "code",
   "execution_count": 8,
   "metadata": {},
   "outputs": [],
   "source": [
    "# Observando o resultado acima, podemos observar que há 3 tipos de variáveis no nosso dataset:\n",
    "# - int64: Que são variáveis de números inteiros\n",
    "# - float64: Sendo variáveis de números de ponto flutuante (possuem vírgula devido aos decimais)\n",
    "# - object: Neste caso são variáveis categóricas (algo como nomes/rótulos, ex: Sim ou Não, Quente ou Frio ou Normal) "
   ]
  },
  {
   "cell_type": "code",
   "execution_count": 9,
   "metadata": {},
   "outputs": [
    {
     "data": {
      "text/plain": [
       "['color',\n",
       " 'director_name',\n",
       " 'num_critic_for_reviews',\n",
       " 'duration',\n",
       " 'director_facebook_likes',\n",
       " 'actor_3_facebook_likes',\n",
       " 'actor_2_name',\n",
       " 'actor_1_facebook_likes',\n",
       " 'gross',\n",
       " 'genres',\n",
       " 'actor_1_name',\n",
       " 'movie_title',\n",
       " 'num_voted_users',\n",
       " 'cast_total_facebook_likes',\n",
       " 'actor_3_name',\n",
       " 'facenumber_in_poster',\n",
       " 'plot_keywords',\n",
       " 'movie_imdb_link',\n",
       " 'num_user_for_reviews',\n",
       " 'language',\n",
       " 'country',\n",
       " 'content_rating',\n",
       " 'budget',\n",
       " 'title_year',\n",
       " 'actor_2_facebook_likes',\n",
       " 'imdb_score',\n",
       " 'aspect_ratio',\n",
       " 'movie_facebook_likes']"
      ]
     },
     "execution_count": 9,
     "metadata": {},
     "output_type": "execute_result"
    }
   ],
   "source": [
    "# A função list(), 'lista' as variáveis/parâmetros de um dado objeto, neste caso 'df.columns', sendo os variáveis do nosso df.\n",
    "list(df.columns)"
   ]
  },
  {
   "cell_type": "markdown",
   "metadata": {},
   "source": [
    "# <font color='mediumpurple'>Preparação de Dados</font>"
   ]
  },
  {
   "cell_type": "code",
   "execution_count": 11,
   "metadata": {},
   "outputs": [],
   "source": [
    "# Para retirarmos então a coluna desnecessária em nosso modelo utilizamos o método \".drop(). Será utilizado 3 parâmetros neste\n",
    "# caso, sendo eles:\n",
    "# - nome da coluna a ser retirada ('movie_imdb_link')\n",
    "# - axis = 1 (significa a orientação dos dados a serem retirados, no caso 1 refere-se a coluna)\n",
    "# - inplace = True (Significa que o drop será realizado no próprio objeto df, ao invés de criar um novo objeto sem tal coluna)\n",
    "df.drop('movie_imdb_link', axis = 1, inplace = True)"
   ]
  },
  {
   "cell_type": "code",
   "execution_count": 12,
   "metadata": {},
   "outputs": [
    {
     "data": {
      "text/plain": [
       "Color               4815\n",
       " Black and White     209\n",
       "Name: color, dtype: int64"
      ]
     },
     "execution_count": 12,
     "metadata": {},
     "output_type": "execute_result"
    }
   ],
   "source": [
    "# Através do método '.value_counts()' podemos visualizar os valores contido em uma dada coluna passada como parâmetro\n",
    "df['color'].value_counts()"
   ]
  },
  {
   "cell_type": "code",
   "execution_count": 13,
   "metadata": {},
   "outputs": [],
   "source": [
    "# Há algumas células anteriores vimos que o tipo de variável contida na coluna color é do tipo object ou seja categóricas, \n",
    "# podemos comprovar tal afirmação agora ao observar tal variáveis que a coluna color (cor), sendo elas color (colorido), onde\n",
    "# foram observados 4815 casos e a variável Black_and_White (Preto e Branco), onde observou-se 209 casos."
   ]
  },
  {
   "cell_type": "code",
   "execution_count": 14,
   "metadata": {},
   "outputs": [
    {
     "name": "stdout",
     "output_type": "stream",
     "text": [
      "Total de casos: 5024\n",
      "Percentagem Color: 95.83996815286623\n",
      "Percentagem B&W: 4.160031847133758\n"
     ]
    }
   ],
   "source": [
    "# Analisando um pouco sobre a distribuição das variáveis encontradas em color:\n",
    "\n",
    "# Sabendo que há duas variáveis na coluna color, usaremos cada uma delas para salvar sua respectiva quantidade de observações\n",
    "color, bw = df['color'].value_counts() \n",
    "\n",
    "# A partir da quantidade de cada variável obtemos o valor total através da soma destas.\n",
    "total_casos = color + bw\n",
    "\n",
    "# Então imprimimos as observaçoes realizadas para análise.\n",
    "print('Total de casos:', total_casos)\n",
    "print('Percentagem Color:', (color / total_casos) * 100)\n",
    "print('Percentagem B&W:', (bw / total_casos) * 100)"
   ]
  },
  {
   "cell_type": "code",
   "execution_count": 15,
   "metadata": {},
   "outputs": [
    {
     "data": {
      "text/plain": [
       "Color               95.839968\n",
       " Black and White     4.160032\n",
       "Name: color, dtype: float64"
      ]
     },
     "execution_count": 15,
     "metadata": {},
     "output_type": "execute_result"
    }
   ],
   "source": [
    "# A título de comentário, poderíamos ter realizado a mesma operação anterior de várias outras formas, como é o caso do comando\n",
    "# abaixo que já nos retorna o valor em percentagem:\n",
    "\n",
    "df['color'].value_counts(normalize=True) * 100\n",
    "\n",
    "# Lembre-se: Há várias maneiras de se realizar a mesma tarefa utilizando ferramentas diferentes, é improvável que se conheça\n",
    "# todas e o importante é solucionar o problema."
   ]
  },
  {
   "cell_type": "code",
   "execution_count": 16,
   "metadata": {},
   "outputs": [],
   "source": [
    "# Podemos observar que o a percentagem de observações casos 'Color' é muito maior do que os casos (Black and White), sendo\n",
    "# assim essa coluna não representa aplicabilidade para nosso modelo preditivo, pois uma vez que praticamente todas as amostras\n",
    "# são coloridas, sua influência na variável a ser prevista (imdb_score) é quase nula, portanto iremos retirar também tal coluna."
   ]
  },
  {
   "cell_type": "code",
   "execution_count": 17,
   "metadata": {},
   "outputs": [],
   "source": [
    "# Retirando então a coluna color:\n",
    "df.drop('color', axis = 1, inplace = True)"
   ]
  },
  {
   "cell_type": "markdown",
   "metadata": {},
   "source": [
    "### <font color='orange'>Dados NA (Nulos ou Faltantes)</font>"
   ]
  },
  {
   "cell_type": "code",
   "execution_count": 18,
   "metadata": {},
   "outputs": [],
   "source": [
    "# Uma observação muito importante a respeito da criação de um modelo preditivo é sobre a questão de dados nulos ou faltantes, \n",
    "# pois no geral os métodos utilizados para criar um modelo não lidam bem com esse tipo de dado e podendo assim levar a um\n",
    "# problemas no modelo. Portanto é necessário sempre verificar a existência de tais observações e se encontradas devem ser\n",
    "# devidamente tratadas, sejam com a exlusão de tal linha de dado ou atribuição de valor baseado em algum critério de decisão\n",
    "# (o critério mais simples é o de atribuição do valor médio observado, porém nem sempre será o melhor)."
   ]
  },
  {
   "cell_type": "code",
   "execution_count": 19,
   "metadata": {},
   "outputs": [
    {
     "data": {
      "text/plain": [
       "director_name                 True\n",
       "num_critic_for_reviews        True\n",
       "duration                      True\n",
       "director_facebook_likes       True\n",
       "actor_3_facebook_likes        True\n",
       "actor_2_name                  True\n",
       "actor_1_facebook_likes        True\n",
       "gross                         True\n",
       "genres                       False\n",
       "actor_1_name                  True\n",
       "movie_title                  False\n",
       "num_voted_users              False\n",
       "cast_total_facebook_likes    False\n",
       "actor_3_name                  True\n",
       "facenumber_in_poster          True\n",
       "plot_keywords                 True\n",
       "num_user_for_reviews          True\n",
       "language                      True\n",
       "country                       True\n",
       "content_rating                True\n",
       "budget                        True\n",
       "title_year                    True\n",
       "actor_2_facebook_likes        True\n",
       "imdb_score                   False\n",
       "aspect_ratio                  True\n",
       "movie_facebook_likes         False\n",
       "dtype: bool"
      ]
     },
     "execution_count": 19,
     "metadata": {},
     "output_type": "execute_result"
    }
   ],
   "source": [
    "# Para retornar quais colunas possuem valores faltantes utilizamos o método '.isna()' que retorna se é True ou False a \n",
    "# existência de dados missings (faltantes), seguido pelo método '.any' que retorna True caso haja pelo menos um valor True em \n",
    "# uma dado eixo de referência (neste caso vertical/colunas). Desta forma teremos informações sobre quais colunas possuem \n",
    "# valores faltantes\n",
    "df.isna().any()"
   ]
  },
  {
   "cell_type": "code",
   "execution_count": 20,
   "metadata": {},
   "outputs": [],
   "source": [
    "# Com o resultado acima podemos observar que nem todas as colunas possuem os devidos valores, ou seja possuem valores faltantes \n",
    "# (missings), como é o caso da coluna 'director_name', onde nem todos os filmes possuem o valor 'director_name(nome_do_diretor)'"
   ]
  },
  {
   "cell_type": "code",
   "execution_count": 22,
   "metadata": {},
   "outputs": [
    {
     "data": {
      "text/plain": [
       "director_name                104\n",
       "num_critic_for_reviews        50\n",
       "duration                      15\n",
       "director_facebook_likes      104\n",
       "actor_3_facebook_likes        23\n",
       "actor_2_name                  13\n",
       "actor_1_facebook_likes         7\n",
       "gross                        884\n",
       "genres                         0\n",
       "actor_1_name                   7\n",
       "movie_title                    0\n",
       "num_voted_users                0\n",
       "cast_total_facebook_likes      0\n",
       "actor_3_name                  23\n",
       "facenumber_in_poster          13\n",
       "plot_keywords                153\n",
       "num_user_for_reviews          21\n",
       "language                      12\n",
       "country                        5\n",
       "content_rating               303\n",
       "budget                       492\n",
       "title_year                   108\n",
       "actor_2_facebook_likes        13\n",
       "imdb_score                     0\n",
       "aspect_ratio                 329\n",
       "movie_facebook_likes           0\n",
       "dtype: int64"
      ]
     },
     "execution_count": 22,
     "metadata": {},
     "output_type": "execute_result"
    }
   ],
   "source": [
    "# Agora que sabemos existem valores faltantes, precisamos então saber quantos ocorridos deste tipo estão presente em cada\n",
    "# variável dos dados. Para isso utilizaremos o método '.isna()' seguido do método '.sum()', que realiza a soma por variável\n",
    "# do número de casos faltantes observados.\n",
    "df.isna().sum()"
   ]
  },
  {
   "cell_type": "code",
   "execution_count": 23,
   "metadata": {},
   "outputs": [],
   "source": [
    "# Mediantes os dados, podemos perceber que há algumas variáveis que possuem muitos valores faltantes como é o caso de 'gross (\n",
    "# lucro_do_filme)', onde os dados faltantes representam cerca de 17.53 %, o que representa um problema. Neste caso retirar as\n",
    "# linhas com dados missing devido a esta variável se torna inviável pois representaria uma perca muito grande ao nosso conjunto\n",
    "# de dados"
   ]
  },
  {
   "cell_type": "code",
   "execution_count": 24,
   "metadata": {},
   "outputs": [],
   "source": [
    "# Para as variáveis que possuem poucos casos missing, podemos realizar a retirada das linhas onde ocorrem tais casos, para tal,\n",
    "# utilizamos o método '.dropna()', onde passamos como parâmetro 'axis = 0' (que neste caso é 0 implicando orientação por linha),\n",
    "# 'subset = []' (onde mencionamos a qual/quais colunas queremos aplicar a função de remoção) e 'inplace' que já é conhecido.\n",
    "df.dropna(axis = 0, subset = ['director_name', 'num_critic_for_reviews',\n",
    "                               'duration','director_facebook_likes','actor_3_facebook_likes',\n",
    "                               'actor_2_name','actor_1_facebook_likes','actor_1_name','actor_3_name',\n",
    "                               'facenumber_in_poster','num_user_for_reviews','language','country',\n",
    "                               'actor_2_facebook_likes','plot_keywords', 'title_year'],inplace=True)"
   ]
  },
  {
   "cell_type": "code",
   "execution_count": 25,
   "metadata": {},
   "outputs": [
    {
     "data": {
      "text/plain": [
       "(4737, 26)"
      ]
     },
     "execution_count": 25,
     "metadata": {},
     "output_type": "execute_result"
    }
   ],
   "source": [
    "# Para termos ideia do que está acontecendo com o nosso dataset, utilizaremos novamente o método '.shape'. Perceba que o nosso\n",
    "# dataset passou de '5043 linhas e 28 colunas' para '4737 columns e 26 rows', o que em perca de linhas de dados representa cerca\n",
    "# de 6.07 %.\n",
    "df.shape"
   ]
  },
  {
   "cell_type": "code",
   "execution_count": 26,
   "metadata": {},
   "outputs": [],
   "source": [
    "# Como dito anteriormente, colunas como muitos valores faltantes tornam a retirada de linhas por casos encontrados inviável,\n",
    "# pois representaria uma perca muito grande ao nosso dataset. Portanto precisamos pensar em uma alternativa sobre como lidar\n",
    "# com esses dados, para auxiliar nessa tomada de decisão, exploraremos um pouco mais tais variáveis (colunas)."
   ]
  },
  {
   "cell_type": "code",
   "execution_count": 27,
   "metadata": {},
   "outputs": [
    {
     "data": {
      "text/plain": [
       "R            2082\n",
       "PG-13        1436\n",
       "PG            681\n",
       "G             109\n",
       "Not Rated     100\n",
       "Unrated        58\n",
       "Approved       55\n",
       "X              13\n",
       "Passed          9\n",
       "NC-17           7\n",
       "GP              6\n",
       "M               5\n",
       "TV-14           3\n",
       "TV-G            3\n",
       "TV-PG           1\n",
       "Name: content_rating, dtype: int64"
      ]
     },
     "execution_count": 27,
     "metadata": {},
     "output_type": "execute_result"
    }
   ],
   "source": [
    "# A primeira variável a ser analisada será a content_rating (classificação de faixa etária), onde utilizaremos o método\n",
    "# 'value_counts()' para contar quantos casos de cada valor é observado nesta coluna.\n",
    "df['content_rating'].value_counts()"
   ]
  },
  {
   "cell_type": "code",
   "execution_count": 28,
   "metadata": {},
   "outputs": [],
   "source": [
    "# Ao analisar o resultado acima, temos que, a quantidade de observações de filmes 'R (livres)' é de cerca de 46.96 % dentre 15\n",
    "# possíveis casos (tal percentagem não considera os valores faltantes), portanto uma decisão viável é atribuir a classificação\n",
    "# 'R' aos valores faltantes."
   ]
  },
  {
   "cell_type": "code",
   "execution_count": 29,
   "metadata": {},
   "outputs": [],
   "source": [
    "# Para tal utilizaremos a método'.fillna()' que 'preenche' os casos NA (faltantes) com o valor passado como parâmetro.\n",
    "df['content_rating'].fillna('R', inplace = True)"
   ]
  },
  {
   "cell_type": "code",
   "execution_count": 30,
   "metadata": {},
   "outputs": [
    {
     "data": {
      "text/plain": [
       "2.35     2311\n",
       "1.85     1884\n",
       "1.37       97\n",
       "1.78       80\n",
       "1.66       63\n",
       "1.33       34\n",
       "2.20       15\n",
       "2.39       14\n",
       "16.00       8\n",
       "2.00        4\n",
       "1.75        3\n",
       "2.40        3\n",
       "2.76        3\n",
       "2.55        2\n",
       "1.50        2\n",
       "2.24        1\n",
       "1.20        1\n",
       "1.18        1\n",
       "1.44        1\n",
       "1.77        1\n",
       "Name: aspect_ratio, dtype: int64"
      ]
     },
     "execution_count": 30,
     "metadata": {},
     "output_type": "execute_result"
    }
   ],
   "source": [
    "# Seguindo com a análise de variáveis, agora em 'aspect_ratio'\n",
    "df['aspect_ratio'].value_counts()"
   ]
  },
  {
   "cell_type": "code",
   "execution_count": 34,
   "metadata": {},
   "outputs": [
    {
     "name": "stdout",
     "output_type": "stream",
     "text": [
      "O valor da mediana a ser preenchido para aspect_ratio é: 2.35\n"
     ]
    }
   ],
   "source": [
    "# Uma vez decidido a decisão a ser tomada com relação aos dados NA de 'aspect_ratio', faremos o preenchimento de tal valores\n",
    "# com a mediana dos casos contidos nessa coluna.\n",
    "\n",
    "# Utilizando o método '.fillna' passaremos como parâmetro o método de cálculo da mediana a partir da coluna do nosso dataset.\n",
    "# A fim de controle, faremos a impressão da mediana antes da realização do preenchimento, a fim de documentar os passos.\n",
    "print('O valor da mediana a ser preenchido para aspect_ratio é:', df['aspect_ratio'].median())\n",
    "df['aspect_ratio'].fillna(df['aspect_ratio'].median(), inplace = True)"
   ]
  },
  {
   "cell_type": "code",
   "execution_count": 36,
   "metadata": {},
   "outputs": [
    {
     "name": "stdout",
     "output_type": "stream",
     "text": [
      "O valor da mediana a ser preenchido para budget é: 20000000.0\n"
     ]
    }
   ],
   "source": [
    "# Faremos o mesmo trabalho de fill (preencher) com as variáveis 'budget (orçamento)' e 'gross (faturamento)'\n",
    "\n",
    "print('O valor da mediana a ser preenchido para budget é:', df['budget'].median())\n",
    "df['budget'].fillna(df['budget'].median(), inplace = True)"
   ]
  },
  {
   "cell_type": "code",
   "execution_count": 37,
   "metadata": {},
   "outputs": [
    {
     "name": "stdout",
     "output_type": "stream",
     "text": [
      "O valor da mediana a ser preenchido para gross é: 26005908.0\n"
     ]
    }
   ],
   "source": [
    "print('O valor da mediana a ser preenchido para gross é:', df['gross'].median())\n",
    "df['gross'].fillna(df['gross'].median(), inplace = True)"
   ]
  },
  {
   "cell_type": "code",
   "execution_count": 38,
   "metadata": {},
   "outputs": [
    {
     "data": {
      "text/plain": [
       "director_name                0\n",
       "num_critic_for_reviews       0\n",
       "duration                     0\n",
       "director_facebook_likes      0\n",
       "actor_3_facebook_likes       0\n",
       "actor_2_name                 0\n",
       "actor_1_facebook_likes       0\n",
       "gross                        0\n",
       "genres                       0\n",
       "actor_1_name                 0\n",
       "movie_title                  0\n",
       "num_voted_users              0\n",
       "cast_total_facebook_likes    0\n",
       "actor_3_name                 0\n",
       "facenumber_in_poster         0\n",
       "plot_keywords                0\n",
       "num_user_for_reviews         0\n",
       "language                     0\n",
       "country                      0\n",
       "content_rating               0\n",
       "budget                       0\n",
       "title_year                   0\n",
       "actor_2_facebook_likes       0\n",
       "imdb_score                   0\n",
       "aspect_ratio                 0\n",
       "movie_facebook_likes         0\n",
       "dtype: int64"
      ]
     },
     "execution_count": 38,
     "metadata": {},
     "output_type": "execute_result"
    }
   ],
   "source": [
    "# Daremos uma olhada novamente no estado de casos NA do nosso dataset, assim podemos verificar se já resolvemos todos os casos\n",
    "# ou se ainda existe algum a ser resolvido.\n",
    "df.isna().sum()"
   ]
  },
  {
   "cell_type": "code",
   "execution_count": 39,
   "metadata": {},
   "outputs": [],
   "source": [
    "# Finalmente resolvemos todos os casos de valores NA (Faltantes/Missings)."
   ]
  },
  {
   "cell_type": "markdown",
   "metadata": {},
   "source": [
    "### <font color='orange'>Dados Duplicados</font>"
   ]
  },
  {
   "cell_type": "code",
   "execution_count": 40,
   "metadata": {},
   "outputs": [
    {
     "data": {
      "text/plain": [
       "42"
      ]
     },
     "execution_count": 40,
     "metadata": {},
     "output_type": "execute_result"
    }
   ],
   "source": [
    "# Seguindo adiante, um caso que também pode nos gerar problema na criação do modelo preditivo é o de dados duplicados.\n",
    "# O que buscamos para o modelo são atributos que influênciem na variabilidade do nosso alvo (targe) a ser previsto, quando\n",
    "# possuimos vários valores duplicados o nosso modelo será enviesado para estas variáveis (inclinado em direção a estas).\n",
    "\n",
    "# Para retornar se há ou não tais ocorrências, o método '.duplicated()' seguido de '.sum' para somar as ocorrências.\n",
    "df.duplicated().sum()"
   ]
  },
  {
   "cell_type": "code",
   "execution_count": 41,
   "metadata": {},
   "outputs": [],
   "source": [
    "# E o resultado foram 42 ocorrências. Para resolvê-las utilizaremos o método 'drop_duplicates()'\n",
    "df.drop_duplicates(inplace = True)"
   ]
  },
  {
   "cell_type": "code",
   "execution_count": 42,
   "metadata": {},
   "outputs": [
    {
     "data": {
      "text/plain": [
       "(4695, 26)"
      ]
     },
     "execution_count": 42,
     "metadata": {},
     "output_type": "execute_result"
    }
   ],
   "source": [
    "# Novamente utilizando o '.shape' veremos como está o nosso dataset após todas as modificações realizadas.\n",
    "df.shape"
   ]
  },
  {
   "cell_type": "code",
   "execution_count": 43,
   "metadata": {},
   "outputs": [],
   "source": [
    "# Desde a última checagem fomos de '4737 linhas e 26 colunas' para '4695 e 26'. Tal modificação e consequentemente perca, ainda\n",
    "# não é tão prejudicial ao modelo. Lembre-se quanto mais dados, mais exemplos o nosso modelo terá durante o treinamento e assim\n",
    "# possuirá uma melhor capacidade de generalização e previsão acertiva, portanto apesar de ser necessário remoção e tratamento\n",
    "# de alguns dados, deve-se ter em consideração que também representa perca de dados para aprendizado, portanto deve-se sempre\n",
    "# análisar esse decorrer de perca para não chegarmos a um dataset pobre de informações."
   ]
  },
  {
   "cell_type": "markdown",
   "metadata": {},
   "source": [
    "### <font color='orange'>Análise de Relevância de Dados</font>"
   ]
  },
  {
   "cell_type": "code",
   "execution_count": 44,
   "metadata": {},
   "outputs": [
    {
     "data": {
      "text/plain": [
       "English       4405\n",
       "French          69\n",
       "Spanish         35\n",
       "Hindi           25\n",
       "Mandarin        24\n",
       "German          18\n",
       "Japanese        16\n",
       "Russian         11\n",
       "Cantonese       10\n",
       "Italian         10\n",
       "Portuguese       8\n",
       "Korean           8\n",
       "Danish           5\n",
       "Swedish          4\n",
       "Persian          4\n",
       "Norwegian        4\n",
       "Hebrew           4\n",
       "Dutch            4\n",
       "Arabic           3\n",
       "Thai             3\n",
       "Aboriginal       2\n",
       "Zulu             2\n",
       "Dari             2\n",
       "None             2\n",
       "Indonesian       2\n",
       "Greek            1\n",
       "Mongolian        1\n",
       "Vietnamese       1\n",
       "Kazakh           1\n",
       "Hungarian        1\n",
       "Aramaic          1\n",
       "Filipino         1\n",
       "Icelandic        1\n",
       "Romanian         1\n",
       "Dzongkha         1\n",
       "Czech            1\n",
       "Bosnian          1\n",
       "Telugu           1\n",
       "Maya             1\n",
       "Polish           1\n",
       "Name: language, dtype: int64"
      ]
     },
     "execution_count": 44,
     "metadata": {},
     "output_type": "execute_result"
    }
   ],
   "source": [
    "# Faremos agora uma análise em algumas colunas para buscar identificar sua possível relevância para nosso modelo, isto é se tal\n",
    "# variável possui de alguma forma a poder de influenciar a nossa variável alvo (target - neste caso, a nota do imdb).\n",
    "\n",
    "# Para tal daremos uma olhada em quais valores estão contidos na coluna language (língua)\n",
    "df['language'].value_counts()"
   ]
  },
  {
   "cell_type": "code",
   "execution_count": 45,
   "metadata": {},
   "outputs": [],
   "source": [
    "# Com base no resultado acima, notamos que o número de filmes em inglês (English) representam cerca de 93.83 % do total de\n",
    "# observações, levando em conta que é uma variável do tipo categórica, poderíamos tomar algumas decisões, a primeira possível\n",
    "# abordagem, seria a de redefinir as categorias observadas de linguagem específica para apenas duas categorias, sendo elas, \n",
    "# Inglês (English) ou Não Inglês (Non-English). Uma secunda abordagem (a qual seguiremos) é a de simplesmente excluir tal coluna\n",
    "# pois ainda que reagruparmos em apenas 2 categorias, a categoria English (Inglês) ainda representaria a grande maioria dos\n",
    "# casos e portanto é bem provável que tais dados não possuem relevância para a previsão do modelo, sendo assim é o que faremos.\n",
    "\n",
    "# obs.: Pensando em um caso onde o nosso dataset possuísse um maior volume de dados com um número significante de filmes de\n",
    "# outras linguas, então tal variável passaria a também ser relevante ao nosso dataset, a qual sem dúvidas seria mantida."
   ]
  },
  {
   "cell_type": "code",
   "execution_count": 46,
   "metadata": {},
   "outputs": [],
   "source": [
    "# Realizando o drop da coluna linguagem\n",
    "df.drop('language', axis = 1, inplace = True)"
   ]
  },
  {
   "cell_type": "code",
   "execution_count": 47,
   "metadata": {},
   "outputs": [
    {
     "data": {
      "text/plain": [
       "USA               3568\n",
       "UK                 420\n",
       "France             149\n",
       "Canada             107\n",
       "Germany             96\n",
       "Australia           53\n",
       "Spain               32\n",
       "India               27\n",
       "China               24\n",
       "Japan               21\n",
       "Italy               20\n",
       "Hong Kong           16\n",
       "New Zealand         14\n",
       "South Korea         12\n",
       "Ireland             11\n",
       "Mexico              11\n",
       "Denmark             11\n",
       "Russia              11\n",
       "South Africa         8\n",
       "Brazil               8\n",
       "Norway               7\n",
       "Sweden               5\n",
       "Netherlands          5\n",
       "Argentina            4\n",
       "Iran                 4\n",
       "Thailand             4\n",
       "Switzerland          3\n",
       "Belgium              3\n",
       "West Germany         3\n",
       "Israel               3\n",
       "Czech Republic       3\n",
       "Hungary              2\n",
       "Greece               2\n",
       "Taiwan               2\n",
       "Romania              2\n",
       "Iceland              2\n",
       "Poland               2\n",
       "Philippines          1\n",
       "Bahamas              1\n",
       "Libya                1\n",
       "Nigeria              1\n",
       "New Line             1\n",
       "Chile                1\n",
       "Soviet Union         1\n",
       "Aruba                1\n",
       "Indonesia            1\n",
       "Finland              1\n",
       "Official site        1\n",
       "Afghanistan          1\n",
       "Georgia              1\n",
       "Turkey               1\n",
       "Bulgaria             1\n",
       "Kyrgyzstan           1\n",
       "Colombia             1\n",
       "Cambodia             1\n",
       "Slovakia             1\n",
       "Peru                 1\n",
       "Name: country, dtype: int64"
      ]
     },
     "execution_count": 47,
     "metadata": {},
     "output_type": "execute_result"
    }
   ],
   "source": [
    "# Dando uma olhada na coluna país\n",
    "df['country'].value_counts()"
   ]
  },
  {
   "cell_type": "code",
   "execution_count": 48,
   "metadata": {},
   "outputs": [],
   "source": [
    "# Sobre a coluna country (país), os casos USA (estados unidos) representam cerca de 80 % dos casos observados, o que era de \n",
    "# de certa forma o esperado, uma vez que a linguagem está diretamente ligada ao país que produziu tal filme.\n",
    "# Apesar de haver uma queda na majoritariedade do principal componente se comparado ao caso 'langage', também realziaremos\n",
    "# a retirada desta coluna seguindo a mesma motivação do caso anterior."
   ]
  },
  {
   "cell_type": "code",
   "execution_count": 49,
   "metadata": {},
   "outputs": [],
   "source": [
    "# Realizando o drop da coluna 'country (país)'\n",
    "df.drop('country', axis = 1, inplace = True)"
   ]
  },
  {
   "cell_type": "markdown",
   "metadata": {},
   "source": [
    "### <font color='orange'>Análise gráfica de relação de variáveis</font>"
   ]
  },
  {
   "cell_type": "code",
   "execution_count": 61,
   "metadata": {},
   "outputs": [
    {
     "data": {
      "image/png": "[encoded data removed]",
      "text/plain": [
       "<Figure size 640x480 with 1 Axes>"
      ]
     },
     "metadata": {},
     "output_type": "display_data"
    },
    {
     "data": {
      "text/plain": [
       "<ggplot: (-9223371949531466744)>"
      ]
     },
     "execution_count": 61,
     "metadata": {},
     "output_type": "execute_result"
    }
   ],
   "source": [
    "# Analisando graficamente a correlação da nota no imdb (imdb_score) e número de likes no facebook (movie_facebook_likes)\n",
    "(ggplot(df) +\\\n",
    "    aes(x = 'imdb_score', y = 'movie_facebook_likes') +\\\n",
    "    geom_line() +\\\n",
    "    labs(tittle = 'Nota IMDB vs Likes no Facebook do filme', x = 'Nota no IMDB', y = 'Likes no Facebook')\n",
    ")"
   ]
  },
  {
   "cell_type": "markdown",
   "metadata": {},
   "source": [
    "### <font color='orange'>Variáveis Categóricas com Baixo Número de uma Mesma Observação</font>"
   ]
  },
  {
   "cell_type": "code",
   "execution_count": 63,
   "metadata": {},
   "outputs": [],
   "source": [
    "# Faremos agora a retirada de algumas variáveis categóricas, pois como no caso da coluna de diretores, não possuimos observações\n",
    "# suficientes por diretor para que haja de fato uma correlação significativa. [Iremos retirar então, director_name,\n",
    "# actor_1_name, actor_2_name, plot_keywords, movie_title (o caso de movie_title é devido a tal variável raramente apresentar\n",
    "# um mesmo valor, assim como tais valores categóricos sempre tendem a ser diferentes, não se consegue realizar uma inferência\n",
    "# de correlação)]"
   ]
  },
  {
   "cell_type": "code",
   "execution_count": 64,
   "metadata": {},
   "outputs": [],
   "source": [
    "# Retirando então as colunas\n",
    "df.drop(columns = ['director_name', 'actor_1_name', 'actor_2_name', \n",
    "                   'actor_3_name', 'plot_keywords', 'movie_title'], axis = 1, inplace = True)"
   ]
  },
  {
   "cell_type": "markdown",
   "metadata": {},
   "source": [
    "### <font color='orange'>Variáveis Com Alta Quantidade de Tipos Observados, Porém Poucas Observações por Tipo</font>"
   ]
  },
  {
   "cell_type": "code",
   "execution_count": 65,
   "metadata": {},
   "outputs": [
    {
     "data": {
      "text/plain": [
       "Drama                               209\n",
       "Comedy                              186\n",
       "Comedy|Drama|Romance                182\n",
       "Comedy|Drama                        180\n",
       "Comedy|Romance                      149\n",
       "                                   ... \n",
       "Drama|Film-Noir                       1\n",
       "Action|Adventure|Drama|Western        1\n",
       "Thriller|Western                      1\n",
       "Drama|Family|Music|Musical            1\n",
       "Animation|Comedy|Fantasy|Musical      1\n",
       "Name: genres, Length: 875, dtype: int64"
      ]
     },
     "execution_count": 65,
     "metadata": {},
     "output_type": "execute_result"
    }
   ],
   "source": [
    "# Dando uma olhada agora nas observações da variável 'genres (gênero)'\n",
    "df['genres'].value_counts()"
   ]
  },
  {
   "cell_type": "code",
   "execution_count": 66,
   "metadata": {},
   "outputs": [],
   "source": [
    "# Devido a alta distribuição dos dados da var genres, também faremos a retirada da mesma.\n",
    "df.drop('genres', axis = 1, inplace = True)"
   ]
  },
  {
   "cell_type": "code",
   "execution_count": 69,
   "metadata": {},
   "outputs": [
    {
     "data": {
      "text/html": [
       "<div>\n",
       "<style scoped>\n",
       "    .dataframe tbody tr th:only-of-type {\n",
       "        vertical-align: middle;\n",
       "    }\n",
       "\n",
       "    .dataframe tbody tr th {\n",
       "        vertical-align: top;\n",
       "    }\n",
       "\n",
       "    .dataframe thead th {\n",
       "        text-align: right;\n",
       "    }\n",
       "</style>\n",
       "<table border=\"1\" class=\"dataframe\">\n",
       "  <thead>\n",
       "    <tr style=\"text-align: right;\">\n",
       "      <th></th>\n",
       "      <th>num_critic_for_reviews</th>\n",
       "      <th>duration</th>\n",
       "      <th>director_facebook_likes</th>\n",
       "      <th>actor_3_facebook_likes</th>\n",
       "      <th>actor_1_facebook_likes</th>\n",
       "      <th>gross</th>\n",
       "      <th>num_voted_users</th>\n",
       "      <th>cast_total_facebook_likes</th>\n",
       "      <th>facenumber_in_poster</th>\n",
       "      <th>num_user_for_reviews</th>\n",
       "      <th>content_rating</th>\n",
       "      <th>budget</th>\n",
       "      <th>title_year</th>\n",
       "      <th>actor_2_facebook_likes</th>\n",
       "      <th>imdb_score</th>\n",
       "      <th>aspect_ratio</th>\n",
       "      <th>movie_facebook_likes</th>\n",
       "    </tr>\n",
       "  </thead>\n",
       "  <tbody>\n",
       "    <tr>\n",
       "      <td>0</td>\n",
       "      <td>723.0</td>\n",
       "      <td>178.0</td>\n",
       "      <td>0.0</td>\n",
       "      <td>855.0</td>\n",
       "      <td>1000.0</td>\n",
       "      <td>760505847.0</td>\n",
       "      <td>886204</td>\n",
       "      <td>4834</td>\n",
       "      <td>0.0</td>\n",
       "      <td>3054.0</td>\n",
       "      <td>PG-13</td>\n",
       "      <td>237000000.0</td>\n",
       "      <td>2009.0</td>\n",
       "      <td>936.0</td>\n",
       "      <td>7.9</td>\n",
       "      <td>1.78</td>\n",
       "      <td>33000</td>\n",
       "    </tr>\n",
       "    <tr>\n",
       "      <td>1</td>\n",
       "      <td>302.0</td>\n",
       "      <td>169.0</td>\n",
       "      <td>563.0</td>\n",
       "      <td>1000.0</td>\n",
       "      <td>40000.0</td>\n",
       "      <td>309404152.0</td>\n",
       "      <td>471220</td>\n",
       "      <td>48350</td>\n",
       "      <td>0.0</td>\n",
       "      <td>1238.0</td>\n",
       "      <td>PG-13</td>\n",
       "      <td>300000000.0</td>\n",
       "      <td>2007.0</td>\n",
       "      <td>5000.0</td>\n",
       "      <td>7.1</td>\n",
       "      <td>2.35</td>\n",
       "      <td>0</td>\n",
       "    </tr>\n",
       "    <tr>\n",
       "      <td>2</td>\n",
       "      <td>602.0</td>\n",
       "      <td>148.0</td>\n",
       "      <td>0.0</td>\n",
       "      <td>161.0</td>\n",
       "      <td>11000.0</td>\n",
       "      <td>200074175.0</td>\n",
       "      <td>275868</td>\n",
       "      <td>11700</td>\n",
       "      <td>1.0</td>\n",
       "      <td>994.0</td>\n",
       "      <td>PG-13</td>\n",
       "      <td>245000000.0</td>\n",
       "      <td>2015.0</td>\n",
       "      <td>393.0</td>\n",
       "      <td>6.8</td>\n",
       "      <td>2.35</td>\n",
       "      <td>85000</td>\n",
       "    </tr>\n",
       "    <tr>\n",
       "      <td>3</td>\n",
       "      <td>813.0</td>\n",
       "      <td>164.0</td>\n",
       "      <td>22000.0</td>\n",
       "      <td>23000.0</td>\n",
       "      <td>27000.0</td>\n",
       "      <td>448130642.0</td>\n",
       "      <td>1144337</td>\n",
       "      <td>106759</td>\n",
       "      <td>0.0</td>\n",
       "      <td>2701.0</td>\n",
       "      <td>PG-13</td>\n",
       "      <td>250000000.0</td>\n",
       "      <td>2012.0</td>\n",
       "      <td>23000.0</td>\n",
       "      <td>8.5</td>\n",
       "      <td>2.35</td>\n",
       "      <td>164000</td>\n",
       "    </tr>\n",
       "    <tr>\n",
       "      <td>5</td>\n",
       "      <td>462.0</td>\n",
       "      <td>132.0</td>\n",
       "      <td>475.0</td>\n",
       "      <td>530.0</td>\n",
       "      <td>640.0</td>\n",
       "      <td>73058679.0</td>\n",
       "      <td>212204</td>\n",
       "      <td>1873</td>\n",
       "      <td>1.0</td>\n",
       "      <td>738.0</td>\n",
       "      <td>PG-13</td>\n",
       "      <td>263700000.0</td>\n",
       "      <td>2012.0</td>\n",
       "      <td>632.0</td>\n",
       "      <td>6.6</td>\n",
       "      <td>2.35</td>\n",
       "      <td>24000</td>\n",
       "    </tr>\n",
       "  </tbody>\n",
       "</table>\n",
       "</div>"
      ],
      "text/plain": [
       "   num_critic_for_reviews  duration  director_facebook_likes  \\\n",
       "0                   723.0     178.0                      0.0   \n",
       "1                   302.0     169.0                    563.0   \n",
       "2                   602.0     148.0                      0.0   \n",
       "3                   813.0     164.0                  22000.0   \n",
       "5                   462.0     132.0                    475.0   \n",
       "\n",
       "   actor_3_facebook_likes  actor_1_facebook_likes        gross  \\\n",
       "0                   855.0                  1000.0  760505847.0   \n",
       "1                  1000.0                 40000.0  309404152.0   \n",
       "2                   161.0                 11000.0  200074175.0   \n",
       "3                 23000.0                 27000.0  448130642.0   \n",
       "5                   530.0                   640.0   73058679.0   \n",
       "\n",
       "   num_voted_users  cast_total_facebook_likes  facenumber_in_poster  \\\n",
       "0           886204                       4834                   0.0   \n",
       "1           471220                      48350                   0.0   \n",
       "2           275868                      11700                   1.0   \n",
       "3          1144337                     106759                   0.0   \n",
       "5           212204                       1873                   1.0   \n",
       "\n",
       "   num_user_for_reviews content_rating       budget  title_year  \\\n",
       "0                3054.0          PG-13  237000000.0      2009.0   \n",
       "1                1238.0          PG-13  300000000.0      2007.0   \n",
       "2                 994.0          PG-13  245000000.0      2015.0   \n",
       "3                2701.0          PG-13  250000000.0      2012.0   \n",
       "5                 738.0          PG-13  263700000.0      2012.0   \n",
       "\n",
       "   actor_2_facebook_likes  imdb_score  aspect_ratio  movie_facebook_likes  \n",
       "0                   936.0         7.9          1.78                 33000  \n",
       "1                  5000.0         7.1          2.35                     0  \n",
       "2                   393.0         6.8          2.35                 85000  \n",
       "3                 23000.0         8.5          2.35                164000  \n",
       "5                   632.0         6.6          2.35                 24000  "
      ]
     },
     "execution_count": 69,
     "metadata": {},
     "output_type": "execute_result"
    }
   ],
   "source": [
    "df.head()"
   ]
  },
  {
   "cell_type": "markdown",
   "metadata": {},
   "source": [
    "# Hypothesis"
   ]
  },
  {
   "cell_type": "markdown",
   "metadata": {},
   "source": []
  },
  {
   "cell_type": "markdown",
   "metadata": {},
   "source": [
    "# Hypothesis testing 1"
   ]
  },
  {
   "cell_type": "code",
   "execution_count": 145,
   "metadata": {
    "scrolled": false
   },
   "outputs": [
    {
     "data": {
      "image/png": "[encoded data removed]",
      "text/plain": [
       "<Figure size 1080x504 with 1 Axes>"
      ]
     },
     "metadata": {
      "needs_background": "light"
     },
     "output_type": "display_data"
    }
   ],
   "source": [
    "df2 = df.iloc[0:100]\n",
    "\n",
    "plt.figure(figsize=(15,7))\n",
    "df2.gross.plot(kind ='line',color = 'r',grid = True,alpha = 0.8,linewidth = 1,label ='Gross',linestyle = '--')\n",
    "df2.budget.plot(color = 'b',grid = True,alpha = 0.8,label ='Budget',linewidth = 1,linestyle = '-')\n",
    "plt.legend()\n",
    "plt.xlabel('a the budget which makes for  a film that director devotes  .')\n",
    "plt.ylabel('the money which earns from the film.')\n",
    "plt.title('Gross and Budget Films')\n",
    "plt.show()"
   ]
  },
  {
   "cell_type": "markdown",
   "metadata": {},
   "source": [
    "### Null Hypothesis: \n",
    "There is no relationship between Gross and Budget\n",
    "### Alternative Hypothesis:\n",
    "There is relationship between Gross and Budget"
   ]
  },
  {
   "cell_type": "code",
   "execution_count": 143,
   "metadata": {},
   "outputs": [
    {
     "data": {
      "text/plain": [
       "Ttest_indResult(statistic=2.075255727942378, pvalue=0.03799000761436705)"
      ]
     },
     "execution_count": 143,
     "metadata": {},
     "output_type": "execute_result"
    }
   ],
   "source": [
    "hle = np.array(df['gross'])\n",
    "ylwd = np.array(df['budget'])\n",
    "stats.ttest_ind(hle, ylwd)"
   ]
  },
  {
   "cell_type": "markdown",
   "metadata": {},
   "source": [
    "### Result\n",
    "With p value 0.03799000761436705 smaller than 0.05, we accept the null hypothesis at 5% significance level, meaning that there is no relationship between gross and budget."
   ]
  },
  {
   "cell_type": "markdown",
   "metadata": {},
   "source": [
    "# Next Steps"
   ]
  },
  {
   "cell_type": "markdown",
   "metadata": {},
   "source": [
    "The analisys now can progress with a look at correlation between all variables, to..."
   ]
  }
 ],
 "metadata": {
  "kernelspec": {
   "display_name": "Python 3",
   "language": "python",
   "name": "python3"
  },
  "language_info": {
   "codemirror_mode": {
    "name": "ipython",
    "version": 3
   },
   "file_extension": ".py",
   "mimetype": "text/x-python",
   "name": "python",
   "nbconvert_exporter": "python",
   "pygments_lexer": "ipython3",
   "version": "3.8.3"
  }
 },
 "nbformat": 4,
 "nbformat_minor": 2
}
